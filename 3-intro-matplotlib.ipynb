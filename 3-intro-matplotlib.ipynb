{
 "cells": [
  {
   "cell_type": "markdown",
   "id": "875cb85e-1c59-420e-b96b-3510656b5ca8",
   "metadata": {},
   "source": [
    "# Matplotlib\n",
    "\n",
    "Maintenant qu'on est capable de sortir des données assez complexe d'un ensemble de données, la dernière pierre du gantelet d'infini c'est de pouvoir afficher ces données sous la forme de graphiques.\n",
    "\n",
    "On a utilisé pandas pour travailler nos données et ça sera le rôle de **matplotlib** d'afficher nos données sous la forme de jolis graphiques.  \n",
    "Ces deux librairies fonctionnent très bien conjointement, d'où leurs présence dans Anaconda.\n",
    "\n",
    "Vous l'auriez peut-être déjà deviné mais MatPlotLib c'est la contraction de Mathematic Plot Library, où plot signifie un graphique.  \n",
    "Je trouve vraiment pas ça terrible comme nom mais ça a le mérite d'être clair.\n",
    "\n",
    "## Les bases\n",
    "\n",
    "Pour commencer, sans grande surprise, on importe matplotlib et on lui donne un petit diminutif pour s'en servir facilement.\n",
    "\n",
    "On en profite pour importer pandas aussi, histoire de récupérer des données à afficher."
   ]
  },
  {
   "cell_type": "code",
   "execution_count": 1,
   "id": "ab3f189c-04ae-4110-960f-d1a9f1da6d63",
   "metadata": {},
   "outputs": [],
   "source": [
    "import matplotlib.pyplot as plt\n",
    "import pandas as p"
   ]
  },
  {
   "cell_type": "markdown",
   "id": "f9972d97-dea4-4049-840f-8f50aa4e6e3f",
   "metadata": {},
   "source": [
    "Maintenant qu'on est prêts, voyons un exemple assez basique de graphique avec matplotlib."
   ]
  },
  {
   "cell_type": "code",
   "execution_count": 2,
   "id": "532f09a2-87dd-416f-a2a0-efcf267d8329",
   "metadata": {},
   "outputs": [
    {
     "data": {
      "image/png": "[encoded data removed]",
      "text/plain": [
       "<Figure size 432x288 with 1 Axes>"
      ]
     },
     "metadata": {
      "needs_background": "light"
     },
     "output_type": "display_data"
    }
   ],
   "source": [
    "# Permet d'obtenir facilement des outils pour créer une figure\n",
    "fig, ax = plt.subplots()\n",
    "\n",
    "# Liste de nombre de 0 à 9\n",
    "x = [0, 1, 2, 3, 4, 5, 6, 7, 8, 9]\n",
    "\n",
    "# On aurait pu écrire ça comme ça\n",
    "# x = range(10)\n",
    "\n",
    "# On prend la même liste, mais on met tout au carré\n",
    "y = [0, 1, 4, 9, 16, 25, 36, 49, 64, 81]\n",
    "\n",
    "# On aurait pu écrire ça comme ça en mode fonctionnel\n",
    "# y = list(map(lambda v: pow(v, 2), x))\n",
    "\n",
    "# On utilise l'objet `ax` pour créer un graphique en passant notre axe X et Y\n",
    "ax.plot(x, y);"
   ]
  },
  {
   "cell_type": "markdown",
   "id": "7a0ea5f7-faec-4ca2-ae02-ab857ef2d488",
   "metadata": {},
   "source": [
    "Ici on a utilisé `ax.plot()` pour avoir un graphique en courbe, mais matplotlib est capable d'afficher [plein de formes de graphiques différents](https://matplotlib.org/stable/plot_types/index.html).\n",
    "\n",
    "Exemple avec un camembert 😋"
   ]
  },
  {
   "cell_type": "code",
   "execution_count": 3,
   "id": "8aa08719-4fd2-4391-b544-6d24b8569c25",
   "metadata": {},
   "outputs": [
    {
     "data": {
      "image/png": "[encoded data removed]",
      "text/plain": [
       "<Figure size 432x288 with 1 Axes>"
      ]
     },
     "metadata": {
      "needs_background": "light"
     },
     "output_type": "display_data"
    }
   ],
   "source": [
    "# En x c'est nos valeurs, ça pourrait être des pourcentages\n",
    "x = [1, 2, 3, 4]\n",
    "# Couleurs\n",
    "colors = ['CornflowerBlue', 'DarkTurquoise', 'DeepSkyBlue', 'DodgerBlue']\n",
    "\n",
    "fig, ax = plt.subplots()\n",
    "\n",
    "# Il faut manuellement placer le diagramme au centre, sinon il s'affiche à 0,0 en tout petit\n",
    "ax.pie(x, colors=colors, radius=3, center=(4, 4),\n",
    "       wedgeprops={\"linewidth\": 1, \"edgecolor\": \"white\"}, frame=True);"
   ]
  },
  {
   "cell_type": "markdown",
   "id": "f423fb73-1d1e-41f1-b755-8deb6463125f",
   "metadata": {},
   "source": [
    "## Avec pandas\n",
    "\n",
    "Voyons comment afficher des données depuis pandas"
   ]
  },
  {
   "cell_type": "code",
   "execution_count": 11,
   "id": "ce2edd58-b7a7-4dae-a144-ac7e69aa2b75",
   "metadata": {},
   "outputs": [
    {
     "data": {
      "image/png": "[encoded data removed]",
      "text/plain": [
       "<Figure size 432x288 with 1 Axes>"
      ]
     },
     "metadata": {
      "needs_background": "light"
     },
     "output_type": "display_data"
    }
   ],
   "source": [
    "# On charge notre document, on connait\n",
    "titanic = p.read_csv(\"demo-pandas/titanic.csv\")\n",
    "\n",
    "# On récupère nos objets de configuration\n",
    "fig, ax = plt.subplots()\n",
    "\n",
    "# On récupère des infos qu'on connais déjà, le ratio de survie moyen par embarquement\n",
    "# On passe un paramètre supplémentaire, `as_index`, on verra ça juste après\n",
    "survival_rate_by_embarkment = titanic.groupby([\"Embarked\"], as_index = False)[\"Survived\"].mean()\n",
    "\n",
    "# On passe notre axe x et y et ça suffit pour afficher notre figure\n",
    "ax.bar(survival_rate_by_embarkment[\"Embarked\"], survival_rate_by_embarkment[\"Survived\"]);"
   ]
  },
  {
   "cell_type": "markdown",
   "id": "0afe0f11-fe46-4b26-82a4-f564c7311083",
   "metadata": {},
   "source": [
    "Pas si compliqué finalement.\n",
    "Le seul détail un peu technique ça va être ce nouveau paramètre qu'on passe, `as_index = False`.\n",
    "\n",
    "Regardons la forme des données que nous donne pandas quand on groupe:"
   ]
  },
  {
   "cell_type": "code",
   "execution_count": 5,
   "id": "909ad3f9-70e0-4d92-8ac0-859463fdaf54",
   "metadata": {},
   "outputs": [
    {
     "data": {
      "text/plain": [
       "Embarked\n",
       "C    0.553571\n",
       "Q    0.389610\n",
       "S    0.337481\n",
       "Name: Survived, dtype: float64"
      ]
     },
     "execution_count": 5,
     "metadata": {},
     "output_type": "execute_result"
    }
   ],
   "source": [
    "grouped_by = titanic.groupby([\"Embarked\"])[\"Survived\"].mean()\n",
    "grouped_by"
   ]
  },
  {
   "cell_type": "markdown",
   "id": "d1d1e18a-4b6a-44a0-9553-ae09030d09d1",
   "metadata": {},
   "source": [
    "Si vous vous souvenez des données qu'on avait au départ, la première colonne représentait un index qui servait à retrouver nos données dans les filtres.\n",
    "\n",
    "Ici, après ce `groupby()`, on n'a plus de colonne `index`, elle est plus ou moins remplacé par la colonne `Embarked`.  \n",
    "Regardons ce que ça donne d'accéder à cette colonne"
   ]
  },
  {
   "cell_type": "code",
   "execution_count": 6,
   "id": "25d57c52-bb24-4d38-bb5b-dcbb6d448837",
   "metadata": {},
   "outputs": [
    {
     "name": "stdout",
     "output_type": "stream",
     "text": [
      "pandas nous refuse l'accès à l'index\n"
     ]
    }
   ],
   "source": [
    "try: \n",
    "    grouped_by[\"Embarked\"]\n",
    "except KeyError:\n",
    "    print(\"pandas nous refuse l'accès à l'index\")"
   ]
  },
  {
   "cell_type": "markdown",
   "id": "3714d641-a6c7-4524-b9eb-253ee12715ab",
   "metadata": {},
   "source": [
    "C'est probablement une sécurité pour éviter de bidouiller les index et casser le fonctionnement de pandas.\n",
    "\n",
    "D'où l'intérêt de passer ce paramètre `as_index = False` pour dire à pandas de grouper sans utiliser cette colonne en temps qu'index"
   ]
  },
  {
   "cell_type": "code",
   "execution_count": 7,
   "id": "9ff648fe-db56-424f-9068-cafac8eed093",
   "metadata": {},
   "outputs": [
    {
     "data": {
      "text/plain": [
       "0    C\n",
       "1    Q\n",
       "2    S\n",
       "Name: Embarked, dtype: object"
      ]
     },
     "execution_count": 7,
     "metadata": {},
     "output_type": "execute_result"
    }
   ],
   "source": [
    "grouped_by = titanic.groupby([\"Embarked\"], as_index = False)[\"Survived\"].mean()\n",
    "grouped_by[\"Embarked\"]"
   ]
  },
  {
   "cell_type": "markdown",
   "id": "7c2f317c-7f28-4adb-9e17-74b18e80d845",
   "metadata": {},
   "source": [
    "Encore un exemple de graphique pour la route, avec une configuration supplémentaire"
   ]
  },
  {
   "cell_type": "code",
   "execution_count": 8,
   "id": "ee65d8fa-30a8-4a22-946f-9a3dc826e197",
   "metadata": {},
   "outputs": [
    {
     "data": {
      "image/png": "[encoded data removed]",
      "text/plain": [
       "<Figure size 432x288 with 1 Axes>"
      ]
     },
     "metadata": {
      "needs_background": "light"
     },
     "output_type": "display_data"
    }
   ],
   "source": [
    "# On reset nos objets pour recommencer la configuration depuis zéro\n",
    "fig, ax = plt.subplots()\n",
    "\n",
    "# On récup le coût médian des tickets par classe\n",
    "fare_by_class = titanic.groupby([\"Pclass\"], as_index = False)[\"Fare\"].median()\n",
    "\n",
    "# On affiche le graphique\n",
    "ax.bar(fare_by_class[\"Pclass\"], fare_by_class[\"Fare\"]);\n",
    "\n",
    "# On force l'abscisse pour que ce soit joli et pas avoir de décimales qui n'ont rien à voir\n",
    "# Commentez cette ligne pour voir la différence \n",
    "ax.set(xticks=[1, 2, 3]);"
   ]
  },
  {
   "cell_type": "markdown",
   "id": "8f3fe0a7-db6d-454a-b18f-55923b817e3c",
   "metadata": {},
   "source": [
    "Bon, le truc c'est que ça peut vite devenir compliqué si on veux, par exemple, deux barres d'informations par valeur de notre abscisse.  \n",
    "Il faudrait indiquer à matplotlib d'afficher une valeur mais de la décaler de la moitié de la largeur de la barre sur la gauche, pour ensuite ajouter l'autre valeur, décalée de la moitié de sa largeur vers la droite, c'est vite très complexe.\n",
    "\n",
    "Pour rappel, matplotlib est une librairie assez bas niveau, tout est possible avec, mais ça demande pas mal de configuration, ce n'est peut-être pas le meilleur outil pour simplement extraire des informations.\n",
    "\n",
    "Aussi, je vais m'arrêter là pour matplotlib et faire un petit tour sur numpy"
   ]
  },
  {
   "cell_type": "markdown",
   "id": "9fa8f25b-d0d8-4a90-975e-580c6a8683c3",
   "metadata": {},
   "source": [
    "# NumPy\n",
    "\n",
    "Numpy est une autre librairie très versatile qui a pour but de traiter des chiffres (en gros).\n",
    "\n",
    "Ici, pas de manipulation de tableau ou de graphe, numpy est juste là pour rendre la vie plus simple au data scientists.\n",
    "\n",
    "Petit exemple de ce qu'il est capable de faire avec des listes"
   ]
  },
  {
   "cell_type": "code",
   "execution_count": 12,
   "id": "9f874b24-7a6a-4b7b-9f07-5e96f1e5466b",
   "metadata": {},
   "outputs": [
    {
     "name": "stdout",
     "output_type": "stream",
     "text": [
      "Comme range(10)\n",
      "[0 1 2 3 4 5 6 7 8 9]\n",
      "\n",
      "De 5 à 15\n",
      "[ 5  6  7  8  9 10 11 12 13 14]\n",
      "\n",
      "De 5 à 15, de deux en deux\n",
      "[ 5  7  9 11 13]\n",
      "\n",
      "De 0 à 9, en tableau à deux dimensions de 2 lignes de 5 colonne\n",
      "[[0 1 2 3 4]\n",
      " [5 6 7 8 9]]\n",
      "\n",
      "De 5 à 15, mais avec 20 entrée espacé linéairement\n",
      "[ 5.          5.52631579  6.05263158  6.57894737  7.10526316  7.63157895\n",
      "  8.15789474  8.68421053  9.21052632  9.73684211 10.26315789 10.78947368\n",
      " 11.31578947 11.84210526 12.36842105 12.89473684 13.42105263 13.94736842\n",
      " 14.47368421 15.        ]\n",
      "\n",
      "100 valeurs linéaires de 0 à 50, puis de 50 à 100\n",
      "[[  0.           0.50251256   1.00502513   1.50753769   2.01005025\n",
      "    2.51256281   3.01507538   3.51758794   4.0201005    4.52261307\n",
      "    5.02512563   5.52763819   6.03015075   6.53266332   7.03517588\n",
      "    7.53768844   8.04020101   8.54271357   9.04522613   9.54773869\n",
      "   10.05025126  10.55276382  11.05527638  11.55778894  12.06030151\n",
      "   12.56281407  13.06532663  13.5678392   14.07035176  14.57286432\n",
      "   15.07537688  15.57788945  16.08040201  16.58291457  17.08542714\n",
      "   17.5879397   18.09045226  18.59296482  19.09547739  19.59798995\n",
      "   20.10050251  20.60301508  21.10552764  21.6080402   22.11055276\n",
      "   22.61306533  23.11557789  23.61809045  24.12060302  24.62311558\n",
      "   25.12562814  25.6281407   26.13065327  26.63316583  27.13567839\n",
      "   27.63819095  28.14070352  28.64321608  29.14572864  29.64824121\n",
      "   30.15075377  30.65326633  31.15577889  31.65829146  32.16080402\n",
      "   32.66331658  33.16582915  33.66834171  34.17085427  34.67336683\n",
      "   35.1758794   35.67839196  36.18090452  36.68341709  37.18592965\n",
      "   37.68844221  38.19095477  38.69346734  39.1959799   39.69849246\n",
      "   40.20100503  40.70351759  41.20603015  41.70854271  42.21105528\n",
      "   42.71356784  43.2160804   43.71859296  44.22110553  44.72361809\n",
      "   45.22613065  45.72864322  46.23115578  46.73366834  47.2361809\n",
      "   47.73869347  48.24120603  48.74371859  49.24623116  49.74874372]\n",
      " [ 50.25125628  50.75376884  51.25628141  51.75879397  52.26130653\n",
      "   52.7638191   53.26633166  53.76884422  54.27135678  54.77386935\n",
      "   55.27638191  55.77889447  56.28140704  56.7839196   57.28643216\n",
      "   57.78894472  58.29145729  58.79396985  59.29648241  59.79899497\n",
      "   60.30150754  60.8040201   61.30653266  61.80904523  62.31155779\n",
      "   62.81407035  63.31658291  63.81909548  64.32160804  64.8241206\n",
      "   65.32663317  65.82914573  66.33165829  66.83417085  67.33668342\n",
      "   67.83919598  68.34170854  68.84422111  69.34673367  69.84924623\n",
      "   70.35175879  70.85427136  71.35678392  71.85929648  72.36180905\n",
      "   72.86432161  73.36683417  73.86934673  74.3718593   74.87437186\n",
      "   75.37688442  75.87939698  76.38190955  76.88442211  77.38693467\n",
      "   77.88944724  78.3919598   78.89447236  79.39698492  79.89949749\n",
      "   80.40201005  80.90452261  81.40703518  81.90954774  82.4120603\n",
      "   82.91457286  83.41708543  83.91959799  84.42211055  84.92462312\n",
      "   85.42713568  85.92964824  86.4321608   86.93467337  87.43718593\n",
      "   87.93969849  88.44221106  88.94472362  89.44723618  89.94974874\n",
      "   90.45226131  90.95477387  91.45728643  91.95979899  92.46231156\n",
      "   92.96482412  93.46733668  93.96984925  94.47236181  94.97487437\n",
      "   95.47738693  95.9798995   96.48241206  96.98492462  97.48743719\n",
      "   97.98994975  98.49246231  98.99497487  99.49748744 100.        ]]\n",
      "\n",
      "Un nombre aléatoire\n",
      "-0.5517144805194982\n"
     ]
    }
   ],
   "source": [
    "import numpy as np\n",
    "from numpy.random import default_rng\n",
    "\n",
    "rng = default_rng()\n",
    "\n",
    "print(\"Comme range(10)\")\n",
    "print(np.arange(10))\n",
    "print()\n",
    "\n",
    "print(\"De 5 à 15\")\n",
    "print(np.arange(5, 15))\n",
    "print()\n",
    "\n",
    "print(\"De 5 à 15, de deux en deux\")\n",
    "print(np.arange(5, 15, 2))\n",
    "print()\n",
    "\n",
    "print(\"De 0 à 9, en tableau à deux dimensions de 2 lignes de 5 colonne\")\n",
    "print(np.arange(10).reshape(2,5))\n",
    "print()\n",
    "\n",
    "print(\"De 5 à 15, mais avec 20 entrée espacé linéairement\")\n",
    "print(np.linspace(5, 15, num = 20))\n",
    "print()\n",
    "\n",
    "print(\"100 valeurs linéaires de 0 à 50, puis de 50 à 100\")\n",
    "print(np.linspace(0, 100, num = 200).reshape(2, 100))\n",
    "print()\n",
    "\n",
    "print(\"Un nombre aléatoire\")\n",
    "print(rng.standard_normal())"
   ]
  },
  {
   "cell_type": "markdown",
   "id": "cf977a30-cba8-4d7c-82be-f9ade9d08de2",
   "metadata": {},
   "source": [
    "Il est possible de faire énormément de choses avec numpy mais je n'aurait pas le temps de m'étendre en détail dessus ici, gardez le quand même à l'esprit pour sa capacité à vous simplifier la vie (surtout dans la création de valeurs comme des listes)"
   ]
  },
  {
   "cell_type": "markdown",
   "id": "8dcdb4d9-6fc9-4b3d-8694-36771ba65184",
   "metadata": {},
   "source": [
    "# 📝 À vous ! (4)\n",
    "\n",
    "Ouvrez le fichier notebook dans le dossier `a-vous/a-vous-4.ipynb` et remplissez les blocs de code pour obtenir le résultat attendu."
   ]
  }
 ],
 "metadata": {
  "kernelspec": {
   "display_name": "Python 3 (ipykernel)",
   "language": "python",
   "name": "python3"
  },
  "language_info": {
   "codemirror_mode": {
    "name": "ipython",
    "version": 3
   },
   "file_extension": ".py",
   "mimetype": "text/x-python",
   "name": "python",
   "nbconvert_exporter": "python",
   "pygments_lexer": "ipython3",
   "version": "3.9.7"
  }
 },
 "nbformat": 4,
 "nbformat_minor": 5
}
