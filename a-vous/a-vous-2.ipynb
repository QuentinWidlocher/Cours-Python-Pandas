{
 "cells": [
  {
   "cell_type": "markdown",
   "id": "43ae3972-2875-4022-9b2f-f5e2458dfd40",
   "metadata": {},
   "source": [
    "# 📝 À vous (2)\n",
    "\n",
    "En vous servant du fichier `../demo-pandas/titanic.csv`, sortez les informations demandées.\n",
    "\n",
    "\n",
    "## Exercices 1\n",
    "\n",
    "Dans ces exercices, ne sortez pas forcément les données dans des tableaux, vous pouvez utiliser `print()` pour afficher des chiffres.\n",
    "Pour chaque exercice, vérifiez que le total correspond bien au total de lignes du tableau (890) en additionnant vos résultat\n",
    "\n",
    "### Exercice 1.1\n",
    "\n",
    "Affichez le nombre de passagers qui ont voyagés en première classe, deuxième classe et troisième classe (Et vérifiez que le total correspond bien au total de ligne du tableau (890))"
   ]
  },
  {
   "cell_type": "markdown",
   "id": "e81bcd75-e1b3-4ade-8172-ddedfacc890c",
   "metadata": {},
   "source": [
    "### Exercice 1.2\n",
    "\n",
    "Affichez le nombre et le pourcentage d'hommes et de femmes à avoir voyagé à bord. (Et vérifiez que le total correspond bien au total de ligne du tableau (890))"
   ]
  },
  {
   "cell_type": "markdown",
   "id": "13dbf18e-8777-465b-8804-a3988a2e7ae1",
   "metadata": {},
   "source": [
    "### Exercice 1.3\n",
    "\n",
    "Affichez le pourcentage d'hommes et le pourcentage de femmes à avoir survécu et à ne pas avoir survécu. (Et vérifiez que le total correspond bien au total de ligne du tableau (890))"
   ]
  },
  {
   "cell_type": "markdown",
   "id": "11d26adb-0a2e-4759-aa61-6ade31dc619b",
   "metadata": {},
   "source": [
    "## Exercices 2\n",
    "\n",
    "Dans ces exercices, sortez les résultat sous la forme de tableaux filtrés\n",
    "\n",
    "### Exercice 2.1\n",
    "\n",
    "Affichez la liste des passagers de plus de 70 ans"
   ]
  },
  {
   "cell_type": "markdown",
   "id": "70876c3d-836e-4efc-a38d-5089a12d9c58",
   "metadata": {},
   "source": [
    "## Exercice 2.2\n",
    "\n",
    "Affichez la liste des passager qui ont entre 30 et 60 ans"
   ]
  },
  {
   "cell_type": "markdown",
   "id": "6c6e4c63-ba70-4ba1-a665-b1f487d0a627",
   "metadata": {},
   "source": [
    "## Exercice 2.3\n",
    "\n",
    "Par rapport à l'exercice d'avant, affichez tous les autres"
   ]
  },
  {
   "cell_type": "markdown",
   "id": "170cc0fe-96d6-4772-afde-078d74bfe5c3",
   "metadata": {},
   "source": [
    "### Exercice 2.4\n",
    "\n",
    "Une comtesse a embarqué sur le titanic, vous devriez pouvoir la trouvez sans chercher son nom sur internet."
   ]
  },
  {
   "cell_type": "markdown",
   "id": "9f863c2d-9c68-45f8-957a-d32f50dc5a29",
   "metadata": {},
   "source": [
    "### Exercice 2.5\n",
    "\n",
    "Affichez uniquement le nom des femmes de plus de 30 ans qui ont payé entre 80£ et 90£ pour leur ticket et ont embarqué à Southampton, sans leurs familles (époux et frères/soeurs)"
   ]
  }
 ],
 "metadata": {
  "kernelspec": {
   "display_name": "Python 3 (ipykernel)",
   "language": "python",
   "name": "python3"
  },
  "language_info": {
   "codemirror_mode": {
    "name": "ipython",
    "version": 3
   },
   "file_extension": ".py",
   "mimetype": "text/x-python",
   "name": "python",
   "nbconvert_exporter": "python",
   "pygments_lexer": "ipython3",
   "version": "3.9.7"
  }
 },
 "nbformat": 4,
 "nbformat_minor": 5
}
