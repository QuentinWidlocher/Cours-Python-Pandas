{
 "cells": [
  {
   "cell_type": "markdown",
   "id": "63d32914-13c2-45a0-9bac-eca34f744a0a",
   "metadata": {},
   "source": [
    "# 📝 À vous (1)\n",
    "\n",
    "Tout d'abord, sous ce bloc de texte, ajoutez un bloc de code qui déclare une fonction `perimeter(r)` capable de calculer le périmètre d'un cercle de rayon r\n",
    "\n",
    "> Rappel d'un périmètre : `2 * Pi * rayon`\n",
    "\n",
    "(pas la peine d'utiliser la constante Pi, vous pouvez mettre 3.14 et ça suffira)"
   ]
  },
  {
   "cell_type": "code",
   "execution_count": 1,
   "id": "02b686d2-46f1-4ce5-a2c4-2882b906ad9d",
   "metadata": {},
   "outputs": [
    {
     "ename": "NameError",
     "evalue": "name 'perimeter' is not defined",
     "output_type": "error",
     "traceback": [
      "\u001b[0;31m---------------------------------------------------------------------------\u001b[0m",
      "\u001b[0;31mNameError\u001b[0m                                 Traceback (most recent call last)",
      "\u001b[0;32m/tmp/ipykernel_180957/3080252789.py\u001b[0m in \u001b[0;36m<module>\u001b[0;34m\u001b[0m\n\u001b[1;32m      5\u001b[0m     \u001b[0mprint\u001b[0m\u001b[0;34m(\u001b[0m\u001b[0;34m\"✔️\"\u001b[0m \u001b[0;32mif\u001b[0m \u001b[0mexpression\u001b[0m \u001b[0;32melse\u001b[0m \u001b[0;34m\"❌\"\u001b[0m\u001b[0;34m)\u001b[0m\u001b[0;34m\u001b[0m\u001b[0;34m\u001b[0m\u001b[0m\n\u001b[1;32m      6\u001b[0m \u001b[0;34m\u001b[0m\u001b[0m\n\u001b[0;32m----> 7\u001b[0;31m \u001b[0mcheck\u001b[0m\u001b[0;34m(\u001b[0m\u001b[0mperimeter\u001b[0m\u001b[0;34m(\u001b[0m\u001b[0;36m1\u001b[0m\u001b[0;34m)\u001b[0m \u001b[0;34m==\u001b[0m \u001b[0;36m6.28\u001b[0m\u001b[0;34m)\u001b[0m\u001b[0;34m\u001b[0m\u001b[0;34m\u001b[0m\u001b[0m\n\u001b[0m\u001b[1;32m      8\u001b[0m \u001b[0mcheck\u001b[0m\u001b[0;34m(\u001b[0m\u001b[0mperimeter\u001b[0m\u001b[0;34m(\u001b[0m\u001b[0;36m2\u001b[0m\u001b[0;34m)\u001b[0m \u001b[0;34m==\u001b[0m \u001b[0;36m12.56\u001b[0m\u001b[0;34m)\u001b[0m\u001b[0;34m\u001b[0m\u001b[0;34m\u001b[0m\u001b[0m\n\u001b[1;32m      9\u001b[0m \u001b[0mcheck\u001b[0m\u001b[0;34m(\u001b[0m\u001b[0mperimeter\u001b[0m\u001b[0;34m(\u001b[0m\u001b[0;36m5.1\u001b[0m\u001b[0;34m)\u001b[0m \u001b[0;34m==\u001b[0m \u001b[0;36m32.028\u001b[0m\u001b[0;34m)\u001b[0m\u001b[0;34m\u001b[0m\u001b[0;34m\u001b[0m\u001b[0m\n",
      "\u001b[0;31mNameError\u001b[0m: name 'perimeter' is not defined"
     ]
    }
   ],
   "source": [
    "# Si vous déclarez la fonction en haut et que vous exécutez ce bloc, vous ne \n",
    "# devriez pas avoir d'erreurs (Dans le doute faite ▸▸ pour exécuter tout)\n",
    "\n",
    "def check(expression):\n",
    "    print(\"✔️\" if expression else \"❌\")\n",
    "\n",
    "check(perimeter(1) == 6.28)\n",
    "check(perimeter(2) == 12.56)\n",
    "check(perimeter(5.1) == 32.028)\n",
    "check(perimeter(10) == 62.800000000000004)"
   ]
  },
  {
   "cell_type": "markdown",
   "id": "4e49f281-227d-420d-944a-febdb72c540b",
   "metadata": {},
   "source": [
    "Maintenant, faite la même chose avec une fonction `area(r)` sous ce bloc qui calcule l'aire d'un cercle de rayon r\n",
    "\n",
    "> Rappel d'une aire : `Pi * rayon²`"
   ]
  },
  {
   "cell_type": "code",
   "execution_count": null,
   "id": "dfffb34b-3ec2-4d59-bf7f-612cf949ed8a",
   "metadata": {},
   "outputs": [],
   "source": [
    "check(area(1) == 3.14)\n",
    "check(area(2) == 12.56)\n",
    "check(area(5.1) == 81.67139999999999)\n",
    "check(area(10) == 314.0)"
   ]
  },
  {
   "cell_type": "markdown",
   "id": "20849a9b-63e2-40f0-b721-c8b7f2e1bf22",
   "metadata": {},
   "source": [
    "Ajoutez ensuite sous ce bloc, deux sliders :\n",
    "- Le premier pour varier le rayon du cercle et afficher son périmètre\n",
    "- Le second pour varier le rayon du cercle et afficher son aire"
   ]
  },
  {
   "cell_type": "markdown",
   "id": "53f8911d-ffb9-4b19-b5bf-084e65668224",
   "metadata": {},
   "source": [
    "Maintenant, faites en sorte de n'afficher qu'un seul slider qui calcule ces deux valeurs"
   ]
  },
  {
   "cell_type": "markdown",
   "id": "5b6a15ac-c928-4268-81a0-f5ad95efbabd",
   "metadata": {},
   "source": [
    "En vous servant de la documentation dans `../doc/widgets.ipynb`, faites la même chose qu'en haut mais verrouillez le slider entre 0 et 50"
   ]
  },
  {
   "cell_type": "markdown",
   "id": "75c7c812-3119-47fb-a41e-5768df9d336b",
   "metadata": {},
   "source": [
    "Sous ce bloc, faites en sorte d'avoir une liste déroulante qui permet à l'utilisateur de choisir entre \"Aire\" et \"Périmètre\", et qui affiche le slider correspondant au choix."
   ]
  },
  {
   "cell_type": "markdown",
   "id": "a8a82e93-c510-4c24-a16d-06302ae20097",
   "metadata": {},
   "source": [
    "Passons aux fichiers, créez deux fichiers texte avec des données dedans et sous ce bloc, ajoutez une liste déroulante qui permet d'afficher uniquement le contenu d'un fichier ou de l'autre "
   ]
  }
 ],
 "metadata": {
  "kernelspec": {
   "display_name": "Python 3 (ipykernel)",
   "language": "python",
   "name": "python3"
  },
  "language_info": {
   "codemirror_mode": {
    "name": "ipython",
    "version": 3
   },
   "file_extension": ".py",
   "mimetype": "text/x-python",
   "name": "python",
   "nbconvert_exporter": "python",
   "pygments_lexer": "ipython3",
   "version": "3.9.7"
  }
 },
 "nbformat": 4,
 "nbformat_minor": 5
}
