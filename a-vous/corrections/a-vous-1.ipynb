{
 "cells": [
  {
   "cell_type": "markdown",
   "id": "63d32914-13c2-45a0-9bac-eca34f744a0a",
   "metadata": {},
   "source": [
    "# 📝 À vous (1)\n",
    "\n",
    "Tout d'abord, sous ce bloc de texte, ajoutez un bloc de code qui déclare une fonction `perimeter(r)` capable de calculer le périmètre d'un cercle de rayon r\n",
    "\n",
    "> Rappel d'un périmètre : `2 * Pi * rayon`\n",
    "\n",
    "(pas la peine d'utiliser la constante Pi, vous pouvez mettre 3.14 et ça suffira)"
   ]
  },
  {
   "cell_type": "code",
   "execution_count": 1,
   "id": "59f2705d-84e6-491b-bd07-fd6d60add9d4",
   "metadata": {},
   "outputs": [],
   "source": [
    "def perimeter(r):\n",
    "    return 2 * 3.14 * r"
   ]
  },
  {
   "cell_type": "code",
   "execution_count": 2,
   "id": "02b686d2-46f1-4ce5-a2c4-2882b906ad9d",
   "metadata": {},
   "outputs": [
    {
     "name": "stdout",
     "output_type": "stream",
     "text": [
      "✔️\n",
      "✔️\n",
      "✔️\n",
      "✔️\n"
     ]
    }
   ],
   "source": [
    "# Si vous déclarez la fonction en haut et que vous exécutez ce bloc, vous ne \n",
    "# devriez pas avoir d'erreurs\n",
    "\n",
    "def check(expression):\n",
    "    print(\"✔️\" if expression else \"❌\")\n",
    "\n",
    "check(perimeter(1) == 6.28)\n",
    "check(perimeter(2) == 12.56)\n",
    "check(perimeter(5.1) == 32.028)\n",
    "check(perimeter(10) == 62.800000000000004)"
   ]
  },
  {
   "cell_type": "markdown",
   "id": "4e49f281-227d-420d-944a-febdb72c540b",
   "metadata": {},
   "source": [
    "Maintenant, faite la même chose avec une fonction `area(r)` sous ce bloc qui calcule l'aire d'un cercle de rayon r\n",
    "\n",
    "> Rappel d'une aire : `Pi * rayon²`"
   ]
  },
  {
   "cell_type": "code",
   "execution_count": 3,
   "id": "6b27b479-c8d6-43ce-8599-d6c356e50657",
   "metadata": {},
   "outputs": [],
   "source": [
    "def area(r):\n",
    "    return 3.14 * (r * r)"
   ]
  },
  {
   "cell_type": "code",
   "execution_count": 4,
   "id": "dfffb34b-3ec2-4d59-bf7f-612cf949ed8a",
   "metadata": {},
   "outputs": [
    {
     "name": "stdout",
     "output_type": "stream",
     "text": [
      "✔️\n",
      "✔️\n",
      "✔️\n",
      "✔️\n"
     ]
    }
   ],
   "source": [
    "check(area(1) == 3.14)\n",
    "check(area(2) == 12.56)\n",
    "check(area(5.1) == 81.67139999999999)\n",
    "check(area(10) == 314.0)"
   ]
  },
  {
   "cell_type": "markdown",
   "id": "20849a9b-63e2-40f0-b721-c8b7f2e1bf22",
   "metadata": {},
   "source": [
    "Ajoutez ensuite sous ce bloc, deux sliders :\n",
    "- Le premier pour varier le rayon du cercle et afficher son périmètre\n",
    "- Le second pour varier le rayon du cercle et afficher son aire"
   ]
  },
  {
   "cell_type": "code",
   "execution_count": 5,
   "id": "8ece5873-3cd6-4887-a5da-8834422e1df7",
   "metadata": {},
   "outputs": [
    {
     "data": {
      "application/vnd.jupyter.widget-view+json": {
       "model_id": "235c135832024424bc30b6d40add51ca",
       "version_major": 2,
       "version_minor": 0
      },
      "text/plain": [
       "interactive(children=(IntSlider(value=10, description='r', max=30, min=-10), Output()), _dom_classes=('widget-…"
      ]
     },
     "metadata": {},
     "output_type": "display_data"
    },
    {
     "data": {
      "application/vnd.jupyter.widget-view+json": {
       "model_id": "e8621dc622ca4efbabc89a19725888a6",
       "version_major": 2,
       "version_minor": 0
      },
      "text/plain": [
       "interactive(children=(IntSlider(value=10, description='r', max=30, min=-10), Output()), _dom_classes=('widget-…"
      ]
     },
     "metadata": {},
     "output_type": "display_data"
    }
   ],
   "source": [
    "from ipywidgets import interact\n",
    "\n",
    "interact(perimeter, r=10);\n",
    "interact(area, r=10);"
   ]
  },
  {
   "cell_type": "markdown",
   "id": "53f8911d-ffb9-4b19-b5bf-084e65668224",
   "metadata": {},
   "source": [
    "Maintenant, faites en sorte de n'afficher qu'un seul slider qui calcule ces deux valeurs"
   ]
  },
  {
   "cell_type": "code",
   "execution_count": 6,
   "id": "f7aa0f37-0a3b-412e-b547-612d951ac11b",
   "metadata": {},
   "outputs": [
    {
     "data": {
      "application/vnd.jupyter.widget-view+json": {
       "model_id": "a85a9656e76d44839a1d7567050ebab5",
       "version_major": 2,
       "version_minor": 0
      },
      "text/plain": [
       "interactive(children=(IntSlider(value=10, description='r', max=30, min=-10), Output()), _dom_classes=('widget-…"
      ]
     },
     "metadata": {},
     "output_type": "display_data"
    }
   ],
   "source": [
    "def f(r):\n",
    "    print(f\"Périmètre : {perimeter(r)}\")\n",
    "    print(f\"Aire : {area(r)}\")\n",
    "\n",
    "interact(f, r=10);"
   ]
  },
  {
   "cell_type": "markdown",
   "id": "5b6a15ac-c928-4268-81a0-f5ad95efbabd",
   "metadata": {},
   "source": [
    "En vous servant de la documentation dans `../doc/widgets.ipynb`, faites la même chose qu'en haut mais verrouillez le slider entre 0 et 50"
   ]
  },
  {
   "cell_type": "code",
   "execution_count": 7,
   "id": "a4c6574f-3a22-47e7-8bfb-46c00d0d19b7",
   "metadata": {},
   "outputs": [
    {
     "data": {
      "application/vnd.jupyter.widget-view+json": {
       "model_id": "fd92c0f27b114c50a90ad7798cd6f661",
       "version_major": 2,
       "version_minor": 0
      },
      "text/plain": [
       "interactive(children=(IntSlider(value=25, description='r', max=50), Output()), _dom_classes=('widget-interact'…"
      ]
     },
     "metadata": {},
     "output_type": "display_data"
    }
   ],
   "source": [
    "interact(f, r=(0,50));"
   ]
  },
  {
   "cell_type": "markdown",
   "id": "75c7c812-3119-47fb-a41e-5768df9d336b",
   "metadata": {},
   "source": [
    "Sous ce bloc, faites en sorte d'avoir une liste déroulante qui permet à l'utilisateur de choisir entre \"Aire\" et \"Périmètre\", et qui affiche le slider correspondant au choix."
   ]
  },
  {
   "cell_type": "code",
   "execution_count": 8,
   "id": "3f9252f4-eb01-4eac-a5d9-3556e0614b1a",
   "metadata": {},
   "outputs": [
    {
     "data": {
      "application/vnd.jupyter.widget-view+json": {
       "model_id": "1bc6d6e2627249d3afc264d9f8eff127",
       "version_major": 2,
       "version_minor": 0
      },
      "text/plain": [
       "interactive(children=(Dropdown(description='choice', options=('Périmètre', 'Aire'), value='Périmètre'), Output…"
      ]
     },
     "metadata": {},
     "output_type": "display_data"
    }
   ],
   "source": [
    "def g(choice):\n",
    "    if choice == \"Périmètre\":\n",
    "        interact(perimeter, r=(0,50));\n",
    "    elif choice == \"Aire\":\n",
    "        interact(area, r=(0,50));\n",
    "\n",
    "interact(g, choice=[\"Périmètre\", \"Aire\"]);"
   ]
  },
  {
   "cell_type": "markdown",
   "id": "a8a82e93-c510-4c24-a16d-06302ae20097",
   "metadata": {},
   "source": [
    "Passons aux fichiers, créez deux fichiers texte avec des données dedans et sous ce bloc, ajoutez une liste déroulante qui permet d'afficher uniquement le contenu d'un fichier ou de l'autre "
   ]
  },
  {
   "cell_type": "code",
   "execution_count": 9,
   "id": "d227037d-e9fe-453e-972e-7dcaad01ce66",
   "metadata": {},
   "outputs": [
    {
     "data": {
      "application/vnd.jupyter.widget-view+json": {
       "model_id": "b224461b19d147bdb3eca321ef65f1d2",
       "version_major": 2,
       "version_minor": 0
      },
      "text/plain": [
       "interactive(children=(Dropdown(description='file', options=(('Fichier A', 'a.txt'), ('Fichier B', 'b.txt')), v…"
      ]
     },
     "metadata": {},
     "output_type": "display_data"
    }
   ],
   "source": [
    "def displayfile(filename):\n",
    "    with open(filename, \"r\") as file:\n",
    "        lines = file.read().splitlines()\n",
    "    \n",
    "    for line in lines:\n",
    "        print(line)\n",
    "\n",
    "def h(file):\n",
    "    displayfile(file)\n",
    "\n",
    "interact(h, file=[(\"Fichier A\", \"a.txt\"), (\"Fichier B\", \"b.txt\")]);"
   ]
  }
 ],
 "metadata": {
  "kernelspec": {
   "display_name": "Python 3 (ipykernel)",
   "language": "python",
   "name": "python3"
  },
  "language_info": {
   "codemirror_mode": {
    "name": "ipython",
    "version": 3
   },
   "file_extension": ".py",
   "mimetype": "text/x-python",
   "name": "python",
   "nbconvert_exporter": "python",
   "pygments_lexer": "ipython3",
   "version": "3.9.7"
  }
 },
 "nbformat": 4,
 "nbformat_minor": 5
}
