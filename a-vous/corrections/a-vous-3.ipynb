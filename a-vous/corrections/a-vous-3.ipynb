{
 "cells": [
  {
   "cell_type": "markdown",
   "id": "d8790195-397a-429a-b0fb-b335f61ff577",
   "metadata": {},
   "source": [
    "# 📝 À vous (3)\n",
    "\n",
    "En vous servant du fichier `../demo-pandas/titanic.csv`, sortez les informations demandées.\n",
    "\n",
    "## Exercices 1\n",
    "\n",
    "### Exercice 1.1\n",
    "\n",
    "Sans filtrer, affichez dans un tableau, le prix médian d'un ticket pour les hommes et pour les femmes"
   ]
  },
  {
   "cell_type": "code",
   "execution_count": 1,
   "id": "d89bbcd7-4e15-464d-a33b-a933c765ec89",
   "metadata": {},
   "outputs": [
    {
     "data": {
      "text/html": [
       "<div>\n",
       "<style scoped>\n",
       "    .dataframe tbody tr th:only-of-type {\n",
       "        vertical-align: middle;\n",
       "    }\n",
       "\n",
       "    .dataframe tbody tr th {\n",
       "        vertical-align: top;\n",
       "    }\n",
       "\n",
       "    .dataframe thead th {\n",
       "        text-align: right;\n",
       "    }\n",
       "</style>\n",
       "<table border=\"1\" class=\"dataframe\">\n",
       "  <thead>\n",
       "    <tr style=\"text-align: right;\">\n",
       "      <th></th>\n",
       "      <th>Fare</th>\n",
       "    </tr>\n",
       "    <tr>\n",
       "      <th>Sex</th>\n",
       "      <th></th>\n",
       "    </tr>\n",
       "  </thead>\n",
       "  <tbody>\n",
       "    <tr>\n",
       "      <th>female</th>\n",
       "      <td>23.00000</td>\n",
       "    </tr>\n",
       "    <tr>\n",
       "      <th>male</th>\n",
       "      <td>10.81665</td>\n",
       "    </tr>\n",
       "  </tbody>\n",
       "</table>\n",
       "</div>"
      ],
      "text/plain": [
       "            Fare\n",
       "Sex             \n",
       "female  23.00000\n",
       "male    10.81665"
      ]
     },
     "execution_count": 1,
     "metadata": {},
     "output_type": "execute_result"
    }
   ],
   "source": [
    "import pandas as p\n",
    "titanic = p.read_csv(\"../../demo-pandas/titanic.csv\")\n",
    "\n",
    "titanic.groupby(\"Sex\")[[\"Fare\"]].median()"
   ]
  },
  {
   "cell_type": "markdown",
   "id": "a2bf6016-3924-4229-9d6c-b25a68233485",
   "metadata": {},
   "source": [
    "### Exercice 1.2\n",
    "\n",
    "Sans filtrer, affichez dans un tableau, le prix moyen d'un ticket pour chaque classe\n",
    "\n",
    "(Bonus à coté, indiquez quelle classe est le meilleur rapport qualité/prix)"
   ]
  },
  {
   "cell_type": "code",
   "execution_count": 2,
   "id": "80bcc162-00e7-44c8-979f-01591190b969",
   "metadata": {},
   "outputs": [
    {
     "data": {
      "text/html": [
       "<div>\n",
       "<style scoped>\n",
       "    .dataframe tbody tr th:only-of-type {\n",
       "        vertical-align: middle;\n",
       "    }\n",
       "\n",
       "    .dataframe tbody tr th {\n",
       "        vertical-align: top;\n",
       "    }\n",
       "\n",
       "    .dataframe thead th {\n",
       "        text-align: right;\n",
       "    }\n",
       "</style>\n",
       "<table border=\"1\" class=\"dataframe\">\n",
       "  <thead>\n",
       "    <tr style=\"text-align: right;\">\n",
       "      <th></th>\n",
       "      <th>Fare</th>\n",
       "    </tr>\n",
       "    <tr>\n",
       "      <th>Pclass</th>\n",
       "      <th></th>\n",
       "    </tr>\n",
       "  </thead>\n",
       "  <tbody>\n",
       "    <tr>\n",
       "      <th>1</th>\n",
       "      <td>84.154687</td>\n",
       "    </tr>\n",
       "    <tr>\n",
       "      <th>2</th>\n",
       "      <td>20.662183</td>\n",
       "    </tr>\n",
       "    <tr>\n",
       "      <th>3</th>\n",
       "      <td>13.687592</td>\n",
       "    </tr>\n",
       "  </tbody>\n",
       "</table>\n",
       "</div>"
      ],
      "text/plain": [
       "             Fare\n",
       "Pclass           \n",
       "1       84.154687\n",
       "2       20.662183\n",
       "3       13.687592"
      ]
     },
     "execution_count": 2,
     "metadata": {},
     "output_type": "execute_result"
    }
   ],
   "source": [
    "titanic.groupby(\"Pclass\")[[\"Fare\"]].mean()"
   ]
  },
  {
   "cell_type": "markdown",
   "id": "4731cf83-5baa-4c77-a562-a439f0d4491c",
   "metadata": {},
   "source": [
    "### Exercice 1.3\n",
    "\n",
    "Dans un même tableau avec des nom de colonnes différents, affichez le prix moyen et le prix médian d'un ticket par classe"
   ]
  },
  {
   "cell_type": "code",
   "execution_count": 3,
   "id": "6b3488f6-c45a-47ff-89f5-8556767ad269",
   "metadata": {},
   "outputs": [
    {
     "data": {
      "text/html": [
       "<div>\n",
       "<style scoped>\n",
       "    .dataframe tbody tr th:only-of-type {\n",
       "        vertical-align: middle;\n",
       "    }\n",
       "\n",
       "    .dataframe tbody tr th {\n",
       "        vertical-align: top;\n",
       "    }\n",
       "\n",
       "    .dataframe thead th {\n",
       "        text-align: right;\n",
       "    }\n",
       "</style>\n",
       "<table border=\"1\" class=\"dataframe\">\n",
       "  <thead>\n",
       "    <tr style=\"text-align: right;\">\n",
       "      <th></th>\n",
       "      <th>MeanFare</th>\n",
       "      <th>MedianFare</th>\n",
       "    </tr>\n",
       "    <tr>\n",
       "      <th>Pclass</th>\n",
       "      <th></th>\n",
       "      <th></th>\n",
       "    </tr>\n",
       "  </thead>\n",
       "  <tbody>\n",
       "    <tr>\n",
       "      <th>1</th>\n",
       "      <td>84.154687</td>\n",
       "      <td>60.2875</td>\n",
       "    </tr>\n",
       "    <tr>\n",
       "      <th>2</th>\n",
       "      <td>20.662183</td>\n",
       "      <td>14.2500</td>\n",
       "    </tr>\n",
       "    <tr>\n",
       "      <th>3</th>\n",
       "      <td>13.687592</td>\n",
       "      <td>8.0500</td>\n",
       "    </tr>\n",
       "  </tbody>\n",
       "</table>\n",
       "</div>"
      ],
      "text/plain": [
       "         MeanFare  MedianFare\n",
       "Pclass                       \n",
       "1       84.154687     60.2875\n",
       "2       20.662183     14.2500\n",
       "3       13.687592      8.0500"
      ]
     },
     "execution_count": 3,
     "metadata": {},
     "output_type": "execute_result"
    }
   ],
   "source": [
    "mean = titanic.groupby(\"Pclass\")[[\"Fare\"]].mean()\n",
    "median = titanic.groupby(\"Pclass\")[[\"Fare\"]].median()\n",
    "\n",
    "result = p.concat([mean, median], axis=1)\n",
    "result.columns = [\"MeanFare\", \"MedianFare\"]\n",
    "\n",
    "result"
   ]
  },
  {
   "cell_type": "markdown",
   "id": "824ba35f-3cdd-4f32-906f-624e49d7fc50",
   "metadata": {},
   "source": [
    "### Exercice 1.4\n",
    "\n",
    "Dans un même tableau avec des nom de colonnes différents, affichez le prix moyen et le prix médian d'un ticket par classe et par sexe\n",
    "\n",
    "(Bonus, que constatez vous ?)"
   ]
  },
  {
   "cell_type": "code",
   "execution_count": 4,
   "id": "88db4bc7-9439-44b0-b0c7-3dd6bbdaf5a6",
   "metadata": {},
   "outputs": [
    {
     "data": {
      "text/html": [
       "<div>\n",
       "<style scoped>\n",
       "    .dataframe tbody tr th:only-of-type {\n",
       "        vertical-align: middle;\n",
       "    }\n",
       "\n",
       "    .dataframe tbody tr th {\n",
       "        vertical-align: top;\n",
       "    }\n",
       "\n",
       "    .dataframe thead th {\n",
       "        text-align: right;\n",
       "    }\n",
       "</style>\n",
       "<table border=\"1\" class=\"dataframe\">\n",
       "  <thead>\n",
       "    <tr style=\"text-align: right;\">\n",
       "      <th></th>\n",
       "      <th></th>\n",
       "      <th>MeanFare</th>\n",
       "      <th>MedianFare</th>\n",
       "    </tr>\n",
       "    <tr>\n",
       "      <th>Pclass</th>\n",
       "      <th>Sex</th>\n",
       "      <th></th>\n",
       "      <th></th>\n",
       "    </tr>\n",
       "  </thead>\n",
       "  <tbody>\n",
       "    <tr>\n",
       "      <th rowspan=\"2\" valign=\"top\">1</th>\n",
       "      <th>female</th>\n",
       "      <td>106.125798</td>\n",
       "      <td>82.66455</td>\n",
       "    </tr>\n",
       "    <tr>\n",
       "      <th>male</th>\n",
       "      <td>67.226127</td>\n",
       "      <td>41.26250</td>\n",
       "    </tr>\n",
       "    <tr>\n",
       "      <th rowspan=\"2\" valign=\"top\">2</th>\n",
       "      <th>female</th>\n",
       "      <td>21.970121</td>\n",
       "      <td>22.00000</td>\n",
       "    </tr>\n",
       "    <tr>\n",
       "      <th>male</th>\n",
       "      <td>19.741782</td>\n",
       "      <td>13.00000</td>\n",
       "    </tr>\n",
       "    <tr>\n",
       "      <th rowspan=\"2\" valign=\"top\">3</th>\n",
       "      <th>female</th>\n",
       "      <td>16.118810</td>\n",
       "      <td>12.47500</td>\n",
       "    </tr>\n",
       "    <tr>\n",
       "      <th>male</th>\n",
       "      <td>12.675756</td>\n",
       "      <td>7.92500</td>\n",
       "    </tr>\n",
       "  </tbody>\n",
       "</table>\n",
       "</div>"
      ],
      "text/plain": [
       "                 MeanFare  MedianFare\n",
       "Pclass Sex                           \n",
       "1      female  106.125798    82.66455\n",
       "       male     67.226127    41.26250\n",
       "2      female   21.970121    22.00000\n",
       "       male     19.741782    13.00000\n",
       "3      female   16.118810    12.47500\n",
       "       male     12.675756     7.92500"
      ]
     },
     "execution_count": 4,
     "metadata": {},
     "output_type": "execute_result"
    }
   ],
   "source": [
    "mean = titanic.groupby([\"Pclass\", \"Sex\"])[[\"Fare\"]].mean()\n",
    "median = titanic.groupby([\"Pclass\", \"Sex\"])[[\"Fare\"]].median()\n",
    "\n",
    "result = p.concat([mean, median], axis=1)\n",
    "result.columns = [\"MeanFare\", \"MedianFare\"]\n",
    "\n",
    "result"
   ]
  },
  {
   "cell_type": "markdown",
   "id": "9e6075ec-73c3-40db-9b95-6837ef17bba7",
   "metadata": {},
   "source": [
    "### Exercice 1.5\n",
    "\n",
    "Dans un même tableau avec des nom de colonnes différents, affichez le prix moyen, le prix médian d'un ticket et le nombre de tickets par classe et par sexe\n",
    "\n",
    "Assurez vous que le total de tickets est bien de 890."
   ]
  },
  {
   "cell_type": "code",
   "execution_count": 5,
   "id": "f4d447ad-b686-4d04-84a4-93142d198275",
   "metadata": {},
   "outputs": [
    {
     "name": "stdout",
     "output_type": "stream",
     "text": [
      "True\n"
     ]
    },
    {
     "data": {
      "text/html": [
       "<div>\n",
       "<style scoped>\n",
       "    .dataframe tbody tr th:only-of-type {\n",
       "        vertical-align: middle;\n",
       "    }\n",
       "\n",
       "    .dataframe tbody tr th {\n",
       "        vertical-align: top;\n",
       "    }\n",
       "\n",
       "    .dataframe thead th {\n",
       "        text-align: right;\n",
       "    }\n",
       "</style>\n",
       "<table border=\"1\" class=\"dataframe\">\n",
       "  <thead>\n",
       "    <tr style=\"text-align: right;\">\n",
       "      <th></th>\n",
       "      <th></th>\n",
       "      <th>MeanFare</th>\n",
       "      <th>MedianFare</th>\n",
       "      <th>Count</th>\n",
       "    </tr>\n",
       "    <tr>\n",
       "      <th>Pclass</th>\n",
       "      <th>Sex</th>\n",
       "      <th></th>\n",
       "      <th></th>\n",
       "      <th></th>\n",
       "    </tr>\n",
       "  </thead>\n",
       "  <tbody>\n",
       "    <tr>\n",
       "      <th rowspan=\"2\" valign=\"top\">1</th>\n",
       "      <th>female</th>\n",
       "      <td>106.125798</td>\n",
       "      <td>82.66455</td>\n",
       "      <td>94</td>\n",
       "    </tr>\n",
       "    <tr>\n",
       "      <th>male</th>\n",
       "      <td>67.226127</td>\n",
       "      <td>41.26250</td>\n",
       "      <td>122</td>\n",
       "    </tr>\n",
       "    <tr>\n",
       "      <th rowspan=\"2\" valign=\"top\">2</th>\n",
       "      <th>female</th>\n",
       "      <td>21.970121</td>\n",
       "      <td>22.00000</td>\n",
       "      <td>76</td>\n",
       "    </tr>\n",
       "    <tr>\n",
       "      <th>male</th>\n",
       "      <td>19.741782</td>\n",
       "      <td>13.00000</td>\n",
       "      <td>108</td>\n",
       "    </tr>\n",
       "    <tr>\n",
       "      <th rowspan=\"2\" valign=\"top\">3</th>\n",
       "      <th>female</th>\n",
       "      <td>16.118810</td>\n",
       "      <td>12.47500</td>\n",
       "      <td>144</td>\n",
       "    </tr>\n",
       "    <tr>\n",
       "      <th>male</th>\n",
       "      <td>12.675756</td>\n",
       "      <td>7.92500</td>\n",
       "      <td>346</td>\n",
       "    </tr>\n",
       "  </tbody>\n",
       "</table>\n",
       "</div>"
      ],
      "text/plain": [
       "                 MeanFare  MedianFare  Count\n",
       "Pclass Sex                                  \n",
       "1      female  106.125798    82.66455     94\n",
       "       male     67.226127    41.26250    122\n",
       "2      female   21.970121    22.00000     76\n",
       "       male     19.741782    13.00000    108\n",
       "3      female   16.118810    12.47500    144\n",
       "       male     12.675756     7.92500    346"
      ]
     },
     "execution_count": 5,
     "metadata": {},
     "output_type": "execute_result"
    }
   ],
   "source": [
    "mean = titanic.groupby([\"Pclass\", \"Sex\"])[[\"Fare\"]].mean()\n",
    "median = titanic.groupby([\"Pclass\", \"Sex\"])[[\"Fare\"]].median()\n",
    "count = titanic.groupby([\"Pclass\", \"Sex\"])[[\"Fare\"]].count()\n",
    "\n",
    "result = p.concat([mean, median, count], axis=1)\n",
    "result.columns = [\"MeanFare\", \"MedianFare\", \"Count\"]\n",
    "\n",
    "print(result[\"Count\"].sum() == 890)\n",
    "\n",
    "result"
   ]
  },
  {
   "cell_type": "markdown",
   "id": "8d0f027e-3652-4110-87dd-3d8ca3b46264",
   "metadata": {},
   "source": [
    "### Exercice 1.6\n",
    "\n",
    "Est-ce que le port d'embarquement avait une quelconque incidence sur le taux de survie ?\n",
    "Essayez de dégager des informations pour valider/invalider cette théorie.\n",
    "\n",
    "<details>\n",
    "    <summary>Indice</summary>\n",
    "    \n",
    "        Ne voyez pas trop compliqué, ça tient en une ligne\n",
    "</details>\n",
    "\n",
    "<details>\n",
    "    <summary>Indice supplémentaire</summary>\n",
    "\n",
    "    Pour comparer les ports, il faut d'abord grouper nos résultats par ports d'embarquements\n",
    "\n",
    "</details>\n",
    "<details>\n",
    "    <summary>Indice final</summary>\n",
    "\n",
    "        Il faut afficher le ratio moyen de survie par port d'embarquement, comme on a affiché le coût moyen d'un ticket par classe plut tôt\n",
    "</details>"
   ]
  },
  {
   "cell_type": "code",
   "execution_count": 6,
   "id": "dc02ea64-0dcd-4f74-8e50-cfc1667b17e1",
   "metadata": {},
   "outputs": [
    {
     "data": {
      "text/html": [
       "<div>\n",
       "<style scoped>\n",
       "    .dataframe tbody tr th:only-of-type {\n",
       "        vertical-align: middle;\n",
       "    }\n",
       "\n",
       "    .dataframe tbody tr th {\n",
       "        vertical-align: top;\n",
       "    }\n",
       "\n",
       "    .dataframe thead th {\n",
       "        text-align: right;\n",
       "    }\n",
       "</style>\n",
       "<table border=\"1\" class=\"dataframe\">\n",
       "  <thead>\n",
       "    <tr style=\"text-align: right;\">\n",
       "      <th></th>\n",
       "      <th>Survived</th>\n",
       "    </tr>\n",
       "    <tr>\n",
       "      <th>Embarked</th>\n",
       "      <th></th>\n",
       "    </tr>\n",
       "  </thead>\n",
       "  <tbody>\n",
       "    <tr>\n",
       "      <th>C</th>\n",
       "      <td>0.553571</td>\n",
       "    </tr>\n",
       "    <tr>\n",
       "      <th>Q</th>\n",
       "      <td>0.389610</td>\n",
       "    </tr>\n",
       "    <tr>\n",
       "      <th>S</th>\n",
       "      <td>0.337481</td>\n",
       "    </tr>\n",
       "  </tbody>\n",
       "</table>\n",
       "</div>"
      ],
      "text/plain": [
       "          Survived\n",
       "Embarked          \n",
       "C         0.553571\n",
       "Q         0.389610\n",
       "S         0.337481"
      ]
     },
     "execution_count": 6,
     "metadata": {},
     "output_type": "execute_result"
    }
   ],
   "source": [
    "titanic.groupby([\"Embarked\"])[[\"Survived\"]].mean()"
   ]
  },
  {
   "cell_type": "markdown",
   "id": "89e47943-5515-4806-8b9c-c6d7ad91648f",
   "metadata": {},
   "source": [
    "### Exercice 1.7\n",
    "\n",
    "Si vous avez un résultat intéressant à l'exercice précédent, essayez de prendre en compte les classes des tickets des gens qui ont embarqué dans les différents ports.\n",
    "\n",
    "<details>\n",
    "    <summary>Spoilers de l'exercice précédent si vous n'avez pas obtenu de résultats probants</summary>\n",
    "    \n",
    "    Si on regarde le ratio de survie de chaque embarquements, on peut observer que ceux qui ont embarqués à Cherbourg ont 55% de chances de survie alors que les autre sont à 38% et 33%\n",
    "    On pourrais penser qu'embarquer à Cherbourg porte chance ? Essayez de comparer les classes des tickets des gens qui ont embarqués à Cherbourg pour vérifier ça.\n",
    "</details>\n",
    "\n",
    "<details>\n",
    "    <summary>Indice</summary>\n",
    "    \n",
    "        Ne voyez pas trop compliqué, ça tient aussi en une ligne\n",
    "</details>"
   ]
  },
  {
   "cell_type": "code",
   "execution_count": 7,
   "id": "a613e846-9631-422e-ae7a-9989834a65a1",
   "metadata": {},
   "outputs": [
    {
     "data": {
      "text/html": [
       "<div>\n",
       "<style scoped>\n",
       "    .dataframe tbody tr th:only-of-type {\n",
       "        vertical-align: middle;\n",
       "    }\n",
       "\n",
       "    .dataframe tbody tr th {\n",
       "        vertical-align: top;\n",
       "    }\n",
       "\n",
       "    .dataframe thead th {\n",
       "        text-align: right;\n",
       "    }\n",
       "</style>\n",
       "<table border=\"1\" class=\"dataframe\">\n",
       "  <thead>\n",
       "    <tr style=\"text-align: right;\">\n",
       "      <th></th>\n",
       "      <th>Survived</th>\n",
       "      <th>Pclass</th>\n",
       "    </tr>\n",
       "    <tr>\n",
       "      <th>Embarked</th>\n",
       "      <th></th>\n",
       "      <th></th>\n",
       "    </tr>\n",
       "  </thead>\n",
       "  <tbody>\n",
       "    <tr>\n",
       "      <th>C</th>\n",
       "      <td>0.553571</td>\n",
       "      <td>1.886905</td>\n",
       "    </tr>\n",
       "    <tr>\n",
       "      <th>Q</th>\n",
       "      <td>0.389610</td>\n",
       "      <td>2.909091</td>\n",
       "    </tr>\n",
       "    <tr>\n",
       "      <th>S</th>\n",
       "      <td>0.337481</td>\n",
       "      <td>2.349922</td>\n",
       "    </tr>\n",
       "  </tbody>\n",
       "</table>\n",
       "</div>"
      ],
      "text/plain": [
       "          Survived    Pclass\n",
       "Embarked                    \n",
       "C         0.553571  1.886905\n",
       "Q         0.389610  2.909091\n",
       "S         0.337481  2.349922"
      ]
     },
     "execution_count": 7,
     "metadata": {},
     "output_type": "execute_result"
    }
   ],
   "source": [
    "titanic.groupby([\"Embarked\"])[[\"Survived\", \"Pclass\"]].mean()"
   ]
  },
  {
   "cell_type": "markdown",
   "id": "8746c36c-1828-429b-821a-215b323f186a",
   "metadata": {},
   "source": [
    "## Exercices 2\n",
    "\n",
    "### Exercice 2.1\n",
    "\n",
    "Créez un widget capable de filtrer le tableau complet par sexe"
   ]
  },
  {
   "cell_type": "code",
   "execution_count": 8,
   "id": "19f381e5-d276-40da-a740-76e2daf61c19",
   "metadata": {},
   "outputs": [
    {
     "data": {
      "application/vnd.jupyter.widget-view+json": {
       "model_id": "f4a5732ea0e745d6816cdb5566e5df69",
       "version_major": 2,
       "version_minor": 0
      },
      "text/plain": [
       "interactive(children=(Dropdown(description='sex', options=(('Homme', 'male'), ('Femme', 'female')), value='mal…"
      ]
     },
     "metadata": {},
     "output_type": "display_data"
    }
   ],
   "source": [
    "from ipywidgets import interact\n",
    "\n",
    "def by_sex(sex):\n",
    "    return titanic[\"Sex\"] == sex\n",
    "    \n",
    "def display(sex):\n",
    "    return titanic[by_sex(sex)]\n",
    "    \n",
    "sex_choices = [(\"Homme\", \"male\"), (\"Femme\", \"female\")]\n",
    "interact(display, sex=sex_choices);"
   ]
  },
  {
   "cell_type": "markdown",
   "id": "79f017dc-7058-499e-9a26-d81506a455f6",
   "metadata": {},
   "source": [
    "### Exercice 2.2\n",
    "\n",
    "Ajoutez à ce filtre, un autre widget pour choisir la classe"
   ]
  },
  {
   "cell_type": "code",
   "execution_count": 9,
   "id": "4ce1c1c4-7fd5-4f68-86da-f3a1766c56b0",
   "metadata": {},
   "outputs": [
    {
     "data": {
      "application/vnd.jupyter.widget-view+json": {
       "model_id": "d673f9fcd34f499e879570b40778be0c",
       "version_major": 2,
       "version_minor": 0
      },
      "text/plain": [
       "interactive(children=(Dropdown(description='sex', options=(('Homme', 'male'), ('Femme', 'female')), value='mal…"
      ]
     },
     "metadata": {},
     "output_type": "display_data"
    }
   ],
   "source": [
    "def by_class(pclass):\n",
    "        return titanic[\"Pclass\"] == pclass\n",
    "\n",
    "def display(sex, pclass):\n",
    "    return titanic[(by_sex(sex)) & (by_class(pclass))]\n",
    "\n",
    "class_choices = [(\"Première\", 1), (\"Deuxième\", 2), (\"Troisième\", 3)]\n",
    "\n",
    "interact(display, sex=sex_choices, pclass=class_choices);"
   ]
  },
  {
   "cell_type": "markdown",
   "id": "42dd8bdb-b349-46e8-9219-f7a57e3ff054",
   "metadata": {},
   "source": [
    "### Exercice 2.3\n",
    "\n",
    "Ajoutez ensuite un *champ de texte* pour chercher par coût de ticket (Essayer de trouver les femmes en première classe qui ont payé 86.5£)\n",
    "Si ce champ de texte est vide, le filtre ne doit pas s'appliquer."
   ]
  },
  {
   "cell_type": "code",
   "execution_count": 10,
   "id": "bd813ec8-6958-49db-aee0-aa1a2718c9ee",
   "metadata": {},
   "outputs": [
    {
     "data": {
      "application/vnd.jupyter.widget-view+json": {
       "model_id": "ea641c797afa49858b1ebfa97b1740ab",
       "version_major": 2,
       "version_minor": 0
      },
      "text/plain": [
       "interactive(children=(Dropdown(description='sex', options=(('Homme', 'male'), ('Femme', 'female')), value='mal…"
      ]
     },
     "metadata": {},
     "output_type": "display_data"
    }
   ],
   "source": [
    "def by_fare(fare):\n",
    "    try:\n",
    "        result = float(fare)\n",
    "        return titanic[\"Fare\"] == result\n",
    "    except:\n",
    "        return titanic[\"Fare\"] > -1\n",
    "\n",
    "def display(sex, pclass, fare):\n",
    "    return titanic[(by_sex(sex)) & (by_class(pclass)) & (by_fare(fare))]\n",
    "\n",
    "interact(display, sex=sex_choices, pclass=class_choices, fare=\"86.5\");"
   ]
  },
  {
   "cell_type": "markdown",
   "id": "9f368ce5-be9b-4d34-8a0a-3c0182359bae",
   "metadata": {},
   "source": [
    "### Exercice 2.4\n",
    "\n",
    "Ajoutez maintenant **deux cases à cocher**, une qui stipule \"a survécu\" et une autre qui stipule \"n'a pas survécu\"\n",
    "\n",
    "L'idée c'est d'afficher dans le cas où :\n",
    "\n",
    "- \"a survécu\" est cochée toute seule : seulement les passagers qui ont survécu\n",
    "- \"n'a pas survécu\" est cochée toute seule : seulement les passagers qui n'ont survécu\n",
    "- Aucune case n'est cochée ou les deux : les passagers ayant survécu ou non\n",
    "\n",
    "<details>\n",
    "    <summary>Indice</summary>\n",
    "    \n",
    "    Pensez à l'ordre de vos calculs booléens\n",
    "</details>"
   ]
  },
  {
   "cell_type": "code",
   "execution_count": 11,
   "id": "9b74b65f-8d68-4637-83ac-c711ba636f47",
   "metadata": {},
   "outputs": [
    {
     "data": {
      "application/vnd.jupyter.widget-view+json": {
       "model_id": "ed7e5fe7d21648db95ee3aaca57adbcf",
       "version_major": 2,
       "version_minor": 0
      },
      "text/plain": [
       "interactive(children=(Dropdown(description='sex', options=(('Homme', 'male'), ('Femme', 'female')), value='mal…"
      ]
     },
     "metadata": {},
     "output_type": "display_data"
    }
   ],
   "source": [
    "def has_survived(survived):\n",
    "    if survived:\n",
    "        return titanic[\"Survived\"] == 1\n",
    "    else:\n",
    "        return titanic[\"Survived\"] == 0\n",
    "\n",
    "def has_not_survived(not_survived):\n",
    "    if not_survived:\n",
    "        return titanic[\"Survived\"] == 0\n",
    "    else:\n",
    "        return titanic[\"Survived\"] == 1\n",
    "\n",
    "def display(sex, pclass, fare, survived, not_survived):\n",
    "    return titanic[(by_sex(sex)) & (by_class(pclass)) & (by_fare(fare)) & (has_survived(survived) | has_not_survived(not_survived))]\n",
    "\n",
    "interact(display, sex=sex_choices, pclass=class_choices, fare=\"\", survived=True, not_survived=True);\n"
   ]
  },
  {
   "cell_type": "markdown",
   "id": "9606e889-a4b1-4ac4-9d7f-5486686f9863",
   "metadata": {},
   "source": [
    "### Exercice 2.5\n",
    "\n",
    "Ajoutez un widget de multisélection, qui permet de choisir aucun, un ou plusieurs ports d'embarquement.\n",
    "\n",
    "<details>\n",
    "    <summary>Indice</summary>\n",
    "    \n",
    "    Il va vous falloir importer les widgets de `ipywidgets`, le composant en question s'apelle `SelectMultiple`\n",
    "</details>"
   ]
  },
  {
   "cell_type": "code",
   "execution_count": 12,
   "id": "113feaac-5578-4c88-a395-eb84fb2b42d8",
   "metadata": {},
   "outputs": [
    {
     "data": {
      "application/vnd.jupyter.widget-view+json": {
       "model_id": "806388da8c284264a7d30988f9486847",
       "version_major": 2,
       "version_minor": 0
      },
      "text/plain": [
       "interactive(children=(Dropdown(description='sex', options=(('Homme', 'male'), ('Femme', 'female')), value='mal…"
      ]
     },
     "metadata": {},
     "output_type": "display_data"
    }
   ],
   "source": [
    "from ipywidgets import widgets\n",
    "\n",
    "def by_embarkment(embarkment):\n",
    "    return titanic[\"Embarked\"].isin(embarkment)\n",
    "\n",
    "def display(sex, pclass, fare, survived, not_survived, embarkment):\n",
    "    return titanic[(by_sex(sex)) & (by_class(pclass)) & (by_fare(fare)) & (has_survived(survived) | has_not_survived(not_survived)) & (by_embarkment(embarkment))]\n",
    "\n",
    "embarkment_widget = widgets.SelectMultiple(options=[(\"Cherbourg\", 'C'), (\"Southampton\", 'S'), (\"Queenstown\", 'Q')], value=['C', 'S', 'Q'])\n",
    "\n",
    "interact(display, sex=sex_choices, pclass=class_choices, fare=\"\", survived=True, not_survived=True, embarkment=embarkment_widget);"
   ]
  },
  {
   "cell_type": "markdown",
   "id": "be44a526-226a-4000-8a5e-259f8be29f83",
   "metadata": {},
   "source": [
    "### Exercice 2.6\n",
    "\n",
    "Non y'a pas vraiment d'exercice 2.6, vous avez déjà ajouté beaucoup de widgets de filtre vous pouvez être fiers de vous, vous avez presque fait une appli web 👌"
   ]
  }
 ],
 "metadata": {
  "kernelspec": {
   "display_name": "Python 3 (ipykernel)",
   "language": "python",
   "name": "python3"
  },
  "language_info": {
   "codemirror_mode": {
    "name": "ipython",
    "version": 3
   },
   "file_extension": ".py",
   "mimetype": "text/x-python",
   "name": "python",
   "nbconvert_exporter": "python",
   "pygments_lexer": "ipython3",
   "version": "3.9.7"
  }
 },
 "nbformat": 4,
 "nbformat_minor": 5
}
