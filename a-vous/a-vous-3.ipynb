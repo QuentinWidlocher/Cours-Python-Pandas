{
 "cells": [
  {
   "cell_type": "markdown",
   "id": "d8790195-397a-429a-b0fb-b335f61ff577",
   "metadata": {},
   "source": [
    "# 📝 À vous (3)\n",
    "\n",
    "En vous servant du fichier `../demo-pandas/titanic.csv`, sortez les informations demandées.\n",
    "\n",
    "## Exercices 1\n",
    "\n",
    "### Exercice 1.1\n",
    "\n",
    "Sans filtrer, affichez dans un tableau, le prix médian d'un ticket pour les hommes et pour les femmes"
   ]
  },
  {
   "cell_type": "markdown",
   "id": "a2bf6016-3924-4229-9d6c-b25a68233485",
   "metadata": {},
   "source": [
    "### Exercice 1.2\n",
    "\n",
    "Sans filtrer, affichez dans un tableau, le prix moyen d'un ticket pour chaque classe\n",
    "\n",
    "(Bonus à coté, indiquez quelle classe est le meilleur rapport qualité/prix)"
   ]
  },
  {
   "cell_type": "markdown",
   "id": "4731cf83-5baa-4c77-a562-a439f0d4491c",
   "metadata": {},
   "source": [
    "### Exercice 1.3\n",
    "\n",
    "Dans un même tableau avec des nom de colonnes différents, affichez le prix moyen et le prix médian d'un ticket par classe"
   ]
  },
  {
   "cell_type": "markdown",
   "id": "824ba35f-3cdd-4f32-906f-624e49d7fc50",
   "metadata": {},
   "source": [
    "### Exercice 1.4\n",
    "\n",
    "Dans un même tableau avec des nom de colonnes différents, affichez le prix moyen et le prix médian d'un ticket par classe et par sexe\n",
    "\n",
    "(Bonus, que constatez vous ?)"
   ]
  },
  {
   "cell_type": "markdown",
   "id": "9e6075ec-73c3-40db-9b95-6837ef17bba7",
   "metadata": {},
   "source": [
    "### Exercice 1.5\n",
    "\n",
    "Dans un même tableau avec des nom de colonnes différents, affichez le prix moyen, le prix médian d'un ticket et le nombre de tickets par classe et par sexe\n",
    "\n",
    "Assurez vous que le total de tickets est bien de 890."
   ]
  },
  {
   "cell_type": "markdown",
   "id": "8d0f027e-3652-4110-87dd-3d8ca3b46264",
   "metadata": {},
   "source": [
    "### Exercice 1.6\n",
    "\n",
    "Est-ce que le port d'embarquement avait une quelconque incidence sur le taux de survie ?\n",
    "Essayez de dégager des informations pour valider/invalider cette théorie.\n",
    "\n",
    "<details>\n",
    "    <summary>Indice</summary>\n",
    "    \n",
    "        Ne voyez pas trop compliqué, ça tient en une ligne\n",
    "</details>\n",
    "\n",
    "<details>\n",
    "    <summary>Indice supplémentaire</summary>\n",
    "\n",
    "    Pour comparer les ports, il faut d'abord grouper nos résultats par ports d'embarquements\n",
    "\n",
    "</details>\n",
    "<details>\n",
    "    <summary>Indice final</summary>\n",
    "\n",
    "        Il faut afficher le ratio moyen de survie par port d'embarquement, comme on a affiché le coût moyen d'un ticket par classe plut tôt\n",
    "</details>"
   ]
  },
  {
   "cell_type": "markdown",
   "id": "89e47943-5515-4806-8b9c-c6d7ad91648f",
   "metadata": {},
   "source": [
    "### Exercice 1.7\n",
    "\n",
    "Si vous avez un résultat intéressant à l'exercice précédent, essayez de prendre en compte les classes des tickets des gens qui ont embarqué dans les différents ports.\n",
    "\n",
    "<details>\n",
    "    <summary>Spoilers de l'exercice précédent si vous n'avez pas obtenu de résultats probants</summary>\n",
    "    \n",
    "    Si on regarde le ratio de survie de chaque embarquements, on peut observer que ceux qui ont embarqués à Cherbourg ont 55% de chances de survie alors que les autre sont à 38% et 33%\n",
    "    On pourrais penser qu'embarquer à Cherbourg porte chance ? Essayez de comparer les classes des tickets des gens qui ont embarqués à Cherbourg pour vérifier ça.\n",
    "</details>\n",
    "\n",
    "<details>\n",
    "    <summary>Indice</summary>\n",
    "    \n",
    "        Ne voyez pas trop compliqué, ça tient aussi en une ligne\n",
    "</details>"
   ]
  },
  {
   "cell_type": "markdown",
   "id": "8746c36c-1828-429b-821a-215b323f186a",
   "metadata": {},
   "source": [
    "## Exercices 2\n",
    "\n",
    "### Exercice 2.1\n",
    "\n",
    "Créez un widget capable de filtrer le tableau complet par sexe"
   ]
  },
  {
   "cell_type": "markdown",
   "id": "79f017dc-7058-499e-9a26-d81506a455f6",
   "metadata": {},
   "source": [
    "### Exercice 2.2\n",
    "\n",
    "Ajoutez à ce filtre, un autre widget pour choisir la classe"
   ]
  },
  {
   "cell_type": "markdown",
   "id": "42dd8bdb-b349-46e8-9219-f7a57e3ff054",
   "metadata": {},
   "source": [
    "### Exercice 2.3\n",
    "\n",
    "Ajoutez ensuite un *champ de texte* pour chercher par coût de ticket (Essayer de trouver les femmes en première classe qui ont payé 86.5£)\n",
    "Si ce champ de texte est vide, le filtre ne doit pas s'appliquer."
   ]
  },
  {
   "cell_type": "markdown",
   "id": "9f368ce5-be9b-4d34-8a0a-3c0182359bae",
   "metadata": {},
   "source": [
    "### Exercice 2.4\n",
    "\n",
    "Ajoutez maintenant **deux cases à cocher**, une qui stipule \"a survécu\" et une autre qui stipule \"n'a pas survécu\"\n",
    "\n",
    "L'idée c'est d'afficher dans le cas où :\n",
    "\n",
    "- \"a survécu\" est cochée toute seule : seulement les passagers qui ont survécu\n",
    "- \"n'a pas survécu\" est cochée toute seule : seulement les passagers qui n'ont survécu\n",
    "- Aucune case n'est cochée ou les deux : les passagers ayant survécu ou non\n",
    "\n",
    "<details>\n",
    "    <summary>Indice</summary>\n",
    "    \n",
    "    Pensez à l'ordre de vos calculs booléens\n",
    "</details>"
   ]
  },
  {
   "cell_type": "markdown",
   "id": "9606e889-a4b1-4ac4-9d7f-5486686f9863",
   "metadata": {},
   "source": [
    "### Exercice 2.5\n",
    "\n",
    "Ajoutez un widget de multisélection, qui permet de choisir aucun, un ou plusieurs ports d'embarquement.\n",
    "\n",
    "<details>\n",
    "    <summary>Indice</summary>\n",
    "    \n",
    "    Il va vous falloir importer les widgets de `ipywidgets`, le composant en question s'apelle `SelectMultiple`\n",
    "</details>"
   ]
  },
  {
   "cell_type": "markdown",
   "id": "be44a526-226a-4000-8a5e-259f8be29f83",
   "metadata": {},
   "source": [
    "### Exercice 2.6\n",
    "\n",
    "Non y'a pas vraiment d'exercice 2.6, vous avez déjà ajouté beaucoup de widgets de filtre vous pouvez être fiers de vous, vous avez presque fait une appli web 👌"
   ]
  }
 ],
 "metadata": {
  "kernelspec": {
   "display_name": "Python 3 (ipykernel)",
   "language": "python",
   "name": "python3"
  },
  "language_info": {
   "codemirror_mode": {
    "name": "ipython",
    "version": 3
   },
   "file_extension": ".py",
   "mimetype": "text/x-python",
   "name": "python",
   "nbconvert_exporter": "python",
   "pygments_lexer": "ipython3",
   "version": "3.9.7"
  }
 },
 "nbformat": 4,
 "nbformat_minor": 5
}
