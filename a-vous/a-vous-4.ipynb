{
 "cells": [
  {
   "cell_type": "markdown",
   "id": "7baedfb0-0fb6-4cf9-bf09-455b6f9e2e8b",
   "metadata": {
    "tags": []
   },
   "source": [
    "# 📝 À vous (4)\n",
    "\n",
    "Avant de commencer, je vous recommande d'installer une extension de Jupyer pour avoir des graphes dynamiques.  \n",
    "Dans un terminal exécutez:\n",
    "\n",
    "```\n",
    "conda install -c conda-forge ipympl\n",
    "```\n",
    "\n",
    "(Si ça ne fonctionne pas, essayez d'ouvrir le terminal d'anaconda directement)\n",
    "\n",
    "Ensuite dans l'onglet avec la pièce de puzzle à droite, cherchez et installez `jupyter-matplotlib`, cliquez sur `Reload` quand un bandeau bleu apparaîtra.\n",
    "\n",
    "Un fois fait, décommentez cette ligne pour activer le mode interactif :"
   ]
  },
  {
   "cell_type": "code",
   "execution_count": 10,
   "id": "50cdc8c4-7195-4aef-9905-dd1a5021dde2",
   "metadata": {},
   "outputs": [],
   "source": [
    "#%matplotlib widget"
   ]
  },
  {
   "cell_type": "markdown",
   "id": "fa66d7e9-a4a1-4931-9d24-a01773fc2c72",
   "metadata": {},
   "source": [
    "## Exercices 1\n",
    "\n",
    "### Exercice 1.1\n",
    "\n",
    "Affichez un graphe camembert, qui doit afficher 10 segments. Chaque segment doit avoir la même proportion que son indexe (Le segment 1 doit faire 10 fois le segment 10)"
   ]
  },
  {
   "cell_type": "markdown",
   "id": "daaa667a-00a0-4157-9552-3c5c7c514da8",
   "metadata": {},
   "source": [
    "### Exercice 1.2\n",
    "\n",
    "Affichez un graphique en barre, qui de 0 à 100, affiche 200 valeurs aléatoires  \n",
    "\n",
    "Le résultat doit ressembler à un relevé sismographique très inquiétant."
   ]
  },
  {
   "cell_type": "markdown",
   "id": "13b6ec80-c0ff-4c6b-be75-a401b4a9a36e",
   "metadata": {},
   "source": [
    "### Exercice 1.3\n",
    "\n",
    "Accrochez vous bien :\n",
    "\n",
    "Afficher un graphe en barre, qui, sur un axe horizontal et vertical va de 0 à 20.\n",
    "Sur chaque valeur paire, affichez la valeur de l'index (2 à 2, 4 à 4 etc.)\n",
    "Sur chaque valeur impaire, affichez la valeur de l'autre coté de l'index (19 pour 1, 17 pour 2 etc.) \n",
    "\n",
    "Et bien sûr, on doit pouvoir à tout moment changer les limites sans être obligé de taper les valeurs à la main."
   ]
  },
  {
   "cell_type": "markdown",
   "id": "e1610501-67ea-4681-a8c7-d655ba62b0ab",
   "metadata": {},
   "source": [
    "### Exercice 1.4\n",
    "\n",
    "Reprenez le graphe précédent et faites en sorte que les marques des axes horizontaux et verticaux affichent toujours 10 entiers, quelque soit la limite du graphe"
   ]
  },
  {
   "cell_type": "markdown",
   "id": "f53333f9-df6a-448d-aba3-de505fabd2d8",
   "metadata": {},
   "source": [
    "### Exercice 1.5\n",
    "\n",
    "Reprenez une dernière fois le graphe précédent et ajoutez y un slider qui controle la limite pour voir comment c'est beau.\n",
    "\n",
    "Attention, pour cet exercice il est recommandé d'avoir activé le mode dynamique.\n",
    "\n",
    "<details>\n",
    "    <summary>Indices</summary>\n",
    "    \n",
    "    Bizarrement, une fois que vous avez créé votre espace de dessin avec plt.subplots() vous pouvez le mettre à jour sans rien retourner dans la fonction que vous passez à interact().\n",
    "    \n",
    "    Attention, ça ne fonctionne qu'avec le mode dynamique, sinon il faut retourner fig.\n",
    "    \n",
    "    Ca risque très probablement de dessiner par dessus le graphe d'avant, la solution magique c'est d'appeller ax.cla() avant de redessiner le graphe pour effacer celui d'avant\n",
    "</details>"
   ]
  }
 ],
 "metadata": {
  "kernelspec": {
   "display_name": "Python 3 (ipykernel)",
   "language": "python",
   "name": "python3"
  },
  "language_info": {
   "codemirror_mode": {
    "name": "ipython",
    "version": 3
   },
   "file_extension": ".py",
   "mimetype": "text/x-python",
   "name": "python",
   "nbconvert_exporter": "python",
   "pygments_lexer": "ipython3",
   "version": "3.9.7"
  }
 },
 "nbformat": 4,
 "nbformat_minor": 5
}
