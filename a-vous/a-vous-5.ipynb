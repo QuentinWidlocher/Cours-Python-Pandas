{
 "cells": [
  {
   "cell_type": "markdown",
   "id": "2b5bec86-2498-4faf-b062-7956b20b5a43",
   "metadata": {},
   "source": [
    "# 📝 A vous (5)\n",
    "\n",
    "On va faire le plein de graphiques"
   ]
  },
  {
   "cell_type": "code",
   "execution_count": 1,
   "id": "e45eeee9-5fd8-44d0-a351-2b71ae547ede",
   "metadata": {},
   "outputs": [],
   "source": [
    "import pandas as p\n",
    "import numpy as np\n",
    "\n",
    "titanic = p.read_csv(\"../../demo-pandas/titanic.csv\")"
   ]
  },
  {
   "cell_type": "markdown",
   "id": "5fd78455-0fa2-4909-b0ed-d33cbce9e53b",
   "metadata": {},
   "source": [
    "## Exercices 1\n",
    "\n",
    "### Exercice 1.1\n",
    "\n",
    "Affichez dans un diagramme camembert, la répartition des classes parmis les passagers."
   ]
  },
  {
   "cell_type": "markdown",
   "id": "53c03d52-eb30-42cd-8a48-585a02922da8",
   "metadata": {},
   "source": [
    "### Exercice 1.2\n",
    "\n",
    "Affichez, dans un diagramme de dispersion (nuage de points, scatter), le prix payé pour un ticket par rapport à l'age des passagers."
   ]
  },
  {
   "cell_type": "markdown",
   "id": "2a9fbd1b-1dc0-4590-a801-4438d1f249c1",
   "metadata": {},
   "source": [
    "### Exercice 1.3\n",
    "\n",
    "Affichez la densité des ages des passagers, précisément entre l'age minimal et l'age maximal, avec dix marques à intervalles régulières sur l'abscisse."
   ]
  },
  {
   "cell_type": "markdown",
   "id": "9aa27e59-6b27-4a7e-b469-e5f46ca569fe",
   "metadata": {},
   "source": [
    "### Exercice 1.4\n",
    "\n",
    "En supposant que les gens aient embarqués dans l'ordre à Cherbourg, puis à Queenstown, puis à Southampton, et dans l'ordre des classe 3, puis 2 puis 1, affichez un graphique montrant l'évolution du montant total déboursé dans l'achats des tickets.  \n",
    "(On imagine que les gens ont chacun acheté leurs tickets juste avant de monter)"
   ]
  },
  {
   "cell_type": "markdown",
   "id": "f3f9881c-630e-4efc-b155-abb5bca66d50",
   "metadata": {},
   "source": [
    "### Exercice 1.5\n",
    "\n",
    "En partant du graphique précédent, ajoutez une autre courbe qui indique le cumul de gens monté sur le bateau.  \n",
    "Puisque les deux courbes n'ont pas la même échelle et qu'il n'est pas possible de facilement afficher une double échelle avec pandas, affichez les deux courbes l'une sous l'autre **en partageant leur abscisse** (donc pas deux graphes distincts)"
   ]
  },
  {
   "cell_type": "markdown",
   "id": "2c35361d-9f92-4421-a6b9-e98c7abeabbc",
   "metadata": {},
   "source": [
    "### Exercice 1.6\n",
    "\n",
    "Affichez un diagramme camembert avec les même valeurs qu'à l'exercice 1.1, et ajoutez un double slider (barre avec deux point pour donner un minimum et un maximum) permettant de filtrer les valeurs par age min et max.\n",
    "\n",
    "Vous devriez pouvoir dynamiquement choisir une plage d'age et voir le camembert s'ajuster pour vous montrer la proportions de classes."
   ]
  }
 ],
 "metadata": {
  "kernelspec": {
   "display_name": "Python 3 (ipykernel)",
   "language": "python",
   "name": "python3"
  },
  "language_info": {
   "codemirror_mode": {
    "name": "ipython",
    "version": 3
   },
   "file_extension": ".py",
   "mimetype": "text/x-python",
   "name": "python",
   "nbconvert_exporter": "python",
   "pygments_lexer": "ipython3",
   "version": "3.9.7"
  }
 },
 "nbformat": 4,
 "nbformat_minor": 5
}
