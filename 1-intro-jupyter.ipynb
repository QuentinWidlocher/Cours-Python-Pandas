{
 "cells": [
  {
   "cell_type": "markdown",
   "id": "768514e8-3e9e-45b7-975a-83fed1005744",
   "metadata": {
    "tags": []
   },
   "source": [
    "# Jupyter Notebook\n",
    "\n",
    "## Les notebooks\n",
    "\n",
    "Un notebook est une application web capable d'exécuter du code (python pour Jupyter) sous la forme de fragments, et d'afficher directement les résultats.\n",
    "\n",
    "Ces notebooks servent le plus souvent à faire des démonstrations d'algorithmes, de formules mathématiques, de traitements de données ou bien sûr, des cours !  \n",
    "Il est possible d'ajouter des sections de texte en *Markdown* comme ce que je fait ici (c'est très méta) afin d'expliquer les actions du notebooks.\n",
    "\n",
    "Un exemple de notebook (pas très commenté malheureusement) expliquant un algorithme assez simple de redimentionnement d'image \"intelligent\" : https://github.com/RemiGonin/seamCarving/blob/main/SeamCarving.ipynb  \n",
    "(un meilleur exemple de ce notebook en vidéo, mais c'est un *Pluto Notebook*: https://www.youtube.com/watch?v=rpB6zQNsbQU)\n",
    "\n",
    "Chaque bloc, chaque fragment de code, s'exécute et fonctionne à l'aide des fragments précédement exécutés.\n",
    "Jupyter retient les valeurs des fragments une fois exécutés donc pas besoin d'interpréter tout le code directement, seulement ce qui change.\n",
    "\n",
    "Pour ceux qui n'ont pas moyen d'installer Jupyter, une [version de démo en ligne existe](https://hub.gke2.mybinder.org/user/jupyterlab-jupyterlab-demo-nhbvim83/lab/tree/demo)"
   ]
  },
  {
   "cell_type": "markdown",
   "id": "1068c8b6-55bd-49bc-912d-8e1117da8d5f",
   "metadata": {},
   "source": [
    "## Jupyter\n",
    "\n",
    "### Les bases\n",
    "\n",
    "Commençons par exécuter du code très simple :"
   ]
  },
  {
   "cell_type": "code",
   "execution_count": 1,
   "id": "349a6d29-250c-4c18-a00b-40a23076e2fd",
   "metadata": {},
   "outputs": [
    {
     "data": {
      "text/plain": [
       "2"
      ]
     },
     "execution_count": 1,
     "metadata": {},
     "output_type": "execute_result"
    }
   ],
   "source": [
    "1 + 1"
   ]
  },
  {
   "cell_type": "markdown",
   "id": "9bfb11a3-7b05-4d16-952a-644b759529f1",
   "metadata": {},
   "source": [
    "Jupyter nous affiche automatiquement le résultat d'une expression lors de son évaluation.\n",
    "\n",
    "Pour afficher des données peut-être mieux formattées, il est possible d'utiliser la fonction `print()` habituelle"
   ]
  },
  {
   "cell_type": "code",
   "execution_count": 2,
   "id": "e9b84751-8524-4873-9632-09b97b276618",
   "metadata": {},
   "outputs": [
    {
     "name": "stdout",
     "output_type": "stream",
     "text": [
      "Le résultat de 1 + 1 est 2\n"
     ]
    }
   ],
   "source": [
    "print(f\"Le résultat de 1 + 1 est {1 + 1}\")"
   ]
  },
  {
   "cell_type": "markdown",
   "id": "8d195c19-6ba1-4897-96ad-5e135c29ee59",
   "metadata": {},
   "source": [
    "Bien sûr, pour faire des choses plus complexe, nous allons avoir besoin de variables."
   ]
  },
  {
   "cell_type": "code",
   "execution_count": 3,
   "id": "44ab80e3-ef18-47f2-9aa1-0f96948422d9",
   "metadata": {},
   "outputs": [],
   "source": [
    "my_var = 1 + 1"
   ]
  },
  {
   "cell_type": "markdown",
   "id": "c608b7fe-9f0b-4a17-8b4d-ec21412b109a",
   "metadata": {},
   "source": [
    "Ici, Jupyter n'affiche pas le résultat de notre calcul, car lors de l'assignation d'une variable, python ne produit pas de résultat (contrairement à Javascript par exemple).\n",
    "\n",
    "Notre variable `my_var` est dans le bloc de code précédent, si vous l'avez exécuté, vous pourrez exécuter le code suivant car Jupyter retient les valeurs des blocs."
   ]
  },
  {
   "cell_type": "code",
   "execution_count": 4,
   "id": "e540f722-86b7-48a0-914c-278b3203e90d",
   "metadata": {},
   "outputs": [
    {
     "data": {
      "text/plain": [
       "4"
      ]
     },
     "execution_count": 4,
     "metadata": {},
     "output_type": "execute_result"
    }
   ],
   "source": [
    "my_other_var = my_var * 2\n",
    "my_other_var"
   ]
  },
  {
   "attachments": {
    "19deb983-cf2a-4a2c-9eee-208ea17d602c.png": {
     "image/png": "[encoded data removed]"
    },
    "7e305819-8df5-4914-abd2-6b559f0d0f5b.png": {
     "image/png": "[encoded data removed]"
    }
   },
   "cell_type": "markdown",
   "id": "8e39cab5-6c11-43fe-9c16-4739179b7dd6",
   "metadata": {},
   "source": [
    "Ici, pour afficher ma variable, je l'ecrit simplement pour que python produise un résultat et que Jupyter l'affiche.\n",
    "\n",
    "Bien entendu, vous pouvez cliquer dans une boîte de code pour faire des modification et appuyer sur `[CTRL]`+`[ENTRÉE]` pour ré-exécuter ce bloc.  \n",
    "**Attention**, lorsque vous exécutez du code comme cela, vous risquez de changer l'ordre d'exécution du code et de provoquer des erreurs.\n",
    "\n",
    "Pour ré-exécuter tout le notebook dans l'ordre, cliquez sur le symbole `▸▸` en haut.\n",
    "\n",
    "![fig1.png](attachment:7e305819-8df5-4914-abd2-6b559f0d0f5b.png)\n",
    "\n",
    "### Les fichiers\n",
    "\n",
    "Dans un notebook, il est possible d'utiliser des fichiers. C'est d'ailleurs ce que nous allons faire pour traiter des données plus tard avec *pandas*.\n",
    "\n",
    "Pour ajouter un fichier au notebook, vous pouvez tout simplement le glisser à l'endroit où vous avez lancé le notebook, ou cliquer sur le bouton `↥` et choisir un fichier.\n",
    "\n",
    "![fig2.png](attachment:19deb983-cf2a-4a2c-9eee-208ea17d602c.png)\n",
    "\n",
    "Une fois que vous avez ajouter un fichier, vous pouvez y accéder en python comme vous feriez habituellement.  \n",
    "Le chemin entre un notebook et un fichier est le même qu'entre un script `.py` et un fichier, par exemple pour accéder à mon fichier `goty.txt` depuis ce notebook, je dois aller dans le dossier `demo-jupyter` d'abord."
   ]
  },
  {
   "cell_type": "code",
   "execution_count": 5,
   "id": "2f988787-5071-4f9b-917c-193f30a29d6f",
   "metadata": {
    "tags": []
   },
   "outputs": [
    {
     "name": "stdout",
     "output_type": "stream",
     "text": [
      "The Game Awards\n",
      "2014 : Dragon Age: Inquisition\n",
      "2015 : The Witcher 3: Wild Hunt\n",
      "2016 : Overwatch\n",
      "2017 : The Legend of Zelda: Breath of the Wild\n",
      "2018 : God of War\n",
      "2019 : Sekiro: Shadows Die Twice\n",
      "2020 : The Last of Us Part II\n",
      "2021 : It Takes Two\n"
     ]
    }
   ],
   "source": [
    "with open(\"demo-jupyter/goty.txt\", \"r\") as file:\n",
    "    lines = file.read().splitlines()\n",
    "    \n",
    "for line in lines:\n",
    "    print(line)"
   ]
  },
  {
   "cell_type": "markdown",
   "id": "57403a2c-524f-4d0b-862b-1b1f6159fab9",
   "metadata": {},
   "source": [
    "Bien entendu, vous pouvez modifier ce fichier avec vos jeux de l'années et relancer ce bloc pour voir la différence.  \n",
    "\n",
    "Vous pouvez aussi enregistrer un fichier depuis jupyter, de la même manière que la lecture."
   ]
  },
  {
   "cell_type": "code",
   "execution_count": 6,
   "id": "a95d59aa-ec78-484d-ac79-3c928fad4f8f",
   "metadata": {},
   "outputs": [],
   "source": [
    "with open(\"demo-jupyter/my-true-goty.txt\", \"w\") as file:\n",
    "    file.write(\"Big Rigs: Over the Road Racing\")"
   ]
  },
  {
   "cell_type": "markdown",
   "id": "959a0406-90f0-4dec-a125-874c575d1b5c",
   "metadata": {},
   "source": [
    "### Les widgets\n",
    "\n",
    "Bon, tout ça c'est déjà assez cool, mais comment faire pour que ce soit encore **plus cool** ?\n",
    "\n",
    "Jupyter propose de *widgets* permettant de modifier des valeurs sans toucher au code, pour que les non-développeur (AKA les mathématiciens) puissent essayer et comprendre sans avoir à mettre les mains dans le cambouis.\n",
    "\n",
    "Pour utiliser un widget de base, il faut d'abord importer la fonction `interact()` de `ipywidgets`."
   ]
  },
  {
   "cell_type": "code",
   "execution_count": 7,
   "id": "61fb64de-a4e5-4bb4-a09d-269703489922",
   "metadata": {},
   "outputs": [],
   "source": [
    "from ipywidgets import interact"
   ]
  },
  {
   "cell_type": "markdown",
   "id": "5cf318fb-3c96-4b52-9d1f-6ea95c657e20",
   "metadata": {},
   "source": [
    "(Une fois importé, cette fonction est disponible dans tous les blocs de code exécutés après.)\n",
    "\n",
    "Pour afficher le widget, il nous faut une fonction à exécuter pour obtenir le résultat, et ensuite lui passer un paramètre par défaut.\n",
    "\n",
    "Le type du paramètre par défaut sera utilisé pour déterminer la nature du widget."
   ]
  },
  {
   "cell_type": "code",
   "execution_count": 8,
   "id": "201e298d-da46-44c8-9a07-c9b605ab3326",
   "metadata": {},
   "outputs": [
    {
     "data": {
      "application/vnd.jupyter.widget-view+json": {
       "model_id": "198a8464f6344048afa1266cce55bf0b",
       "version_major": 2,
       "version_minor": 0
      },
      "text/plain": [
       "interactive(children=(IntSlider(value=10, description='x', max=30, min=-10), Output()), _dom_classes=('widget-…"
      ]
     },
     "metadata": {},
     "output_type": "display_data"
    },
    {
     "data": {
      "application/vnd.jupyter.widget-view+json": {
       "model_id": "368d34aef60f41cca1ea79d9cd41cd72",
       "version_major": 2,
       "version_minor": 0
      },
      "text/plain": [
       "interactive(children=(FloatSlider(value=10.0, description='x', max=30.0, min=-10.0), Output()), _dom_classes=(…"
      ]
     },
     "metadata": {},
     "output_type": "display_data"
    },
    {
     "data": {
      "application/vnd.jupyter.widget-view+json": {
       "model_id": "718e3f735dc149deaf0c4b2004d6f3c4",
       "version_major": 2,
       "version_minor": 0
      },
      "text/plain": [
       "interactive(children=(Checkbox(value=True, description='x'), Output()), _dom_classes=('widget-interact',))"
      ]
     },
     "metadata": {},
     "output_type": "display_data"
    },
    {
     "data": {
      "application/vnd.jupyter.widget-view+json": {
       "model_id": "f42b0254a1ca4707a44cb77d571ecdb0",
       "version_major": 2,
       "version_minor": 0
      },
      "text/plain": [
       "interactive(children=(Dropdown(description='x', options=('A', 'B', 'C'), value='A'), Output()), _dom_classes=(…"
      ]
     },
     "metadata": {},
     "output_type": "display_data"
    },
    {
     "data": {
      "application/vnd.jupyter.widget-view+json": {
       "model_id": "bc8259d9c3c3494380fd9e3132410d3f",
       "version_major": 2,
       "version_minor": 0
      },
      "text/plain": [
       "interactive(children=(Dropdown(description='x', options=(('A', 1), ('B', 2), ('C', 3)), value=1), Output()), _…"
      ]
     },
     "metadata": {},
     "output_type": "display_data"
    }
   ],
   "source": [
    "# Cette fonction ne fait rien, elle est compatible avec tous les types\n",
    "def f(x):\n",
    "    return x\n",
    "\n",
    "# Un slider d'entiers\n",
    "interact(f, x=10);\n",
    "\n",
    "# Un slider de décimales\n",
    "interact(f, x=10.0);\n",
    "\n",
    "# Une checkbox\n",
    "interact(f, x=True);\n",
    "\n",
    "# Un dropdown\n",
    "interact(f, x=['A', 'B', 'C']);\n",
    "\n",
    "# Un dropdown avec des valeurs\n",
    "interact(f, x=[('A', 1), ('B', 2), ('C', 3)]);"
   ]
  },
  {
   "cell_type": "markdown",
   "id": "bb2c5f0c-b53a-48ce-a3a2-eee3f80fc798",
   "metadata": {},
   "source": [
    "On peut aussi utiliser des widgets plus précis en passant une instance de widget à notre fonction `interact()`"
   ]
  },
  {
   "cell_type": "code",
   "execution_count": 9,
   "id": "80715748-fe1b-4f13-be53-3042bfaaa5f9",
   "metadata": {},
   "outputs": [
    {
     "data": {
      "application/vnd.jupyter.widget-view+json": {
       "model_id": "e65f990c0ce24f249325bcb491c4f17c",
       "version_major": 2,
       "version_minor": 0
      },
      "text/plain": [
       "interactive(children=(RadioButtons(description='Pizzas', options=('Margarita', 'Savoyarde', 'Hawaïenne'), valu…"
      ]
     },
     "metadata": {},
     "output_type": "display_data"
    }
   ],
   "source": [
    "from ipywidgets import widgets\n",
    "\n",
    "radio_widget = widgets.RadioButtons(\n",
    "    options=['Margarita', 'Savoyarde', 'Hawaïenne'],\n",
    "    description='Pizzas',\n",
    ")\n",
    "\n",
    "interact(f, x=radio_widget);"
   ]
  },
  {
   "cell_type": "markdown",
   "id": "e4e398fb-ef11-4308-a145-4e01c01af2e5",
   "metadata": {},
   "source": [
    "Je vous laisse imaginer tout ce qu'il est possible de faire maintenant que vous avez Python pour traiter des données et Jupyter pour afficher et contrôler ces traitements.\n",
    "\n",
    "Au passage, les plus attentifs auront remarqué que ces lignes de codes finissent parfois par... des points-virgules ?  \n",
    "Et oui, car quand vous exécutez la fonction `interact()`, python produit un résultat et jupyter l'affiche. Sauf que ce résultat n'est pas très intéressant (essayez vous même en retirant un point-virgule)  \n",
    "Pour éviter qu'un expression soit affichée dans jupyter, ajoutez un point-virgule à la fin.\n",
    "\n",
    "## 📝 À vous ! (1)\n",
    "\n",
    "Ouvrez le fichier notebook dans le dossier `a-vous/1.ipynb` et remplissez les blocs de code pour obtenir le résultat attendu."
   ]
  }
 ],
 "metadata": {
  "kernelspec": {
   "display_name": "Python 3 (ipykernel)",
   "language": "python",
   "name": "python3"
  },
  "language_info": {
   "codemirror_mode": {
    "name": "ipython",
    "version": 3
   },
   "file_extension": ".py",
   "mimetype": "text/x-python",
   "name": "python",
   "nbconvert_exporter": "python",
   "pygments_lexer": "ipython3",
   "version": "3.9.7"
  }
 },
 "nbformat": 4,
 "nbformat_minor": 5
}
