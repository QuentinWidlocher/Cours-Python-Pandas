{
 "cells": [
  {
   "cell_type": "markdown",
   "id": "875cb85e-1c59-420e-b96b-3510656b5ca8",
   "metadata": {},
   "source": [
    "# Les graphiques avec Pandas\n",
    "\n",
    "Plot twist : en fait pandas fourni un *wrapper* de matplotlib qui est bien plus simple d'utilisation  \n",
    "On n'a pas fait tout ça pour rien, c'est intéressant de s'y pencher maintenant qu'on connais mieux matplotlib et ses capacités\n",
    "\n",
    "C'est un peu moins paramétrable que d'utiliser matplotlib directement, mais c'est peut-être plus facile (et plus adapté forcément).\n",
    "\n",
    "## Les bases\n",
    "\n",
    "Ici, pas besoin d'importer matplotlib car il existe directement dans le module de pandas."
   ]
  },
  {
   "cell_type": "code",
   "execution_count": 79,
   "id": "ab3f189c-04ae-4110-960f-d1a9f1da6d63",
   "metadata": {},
   "outputs": [],
   "source": [
    "import pandas as p"
   ]
  },
  {
   "cell_type": "markdown",
   "id": "479d14e3-1678-4613-98dd-e5f91c854600",
   "metadata": {},
   "source": [
    "Pour créer des graphe, on doit partir d'une DataFrame ou d'une Series et aller chercher la méthode désirée dans sa propriété `.plot`"
   ]
  },
  {
   "cell_type": "code",
   "execution_count": 81,
   "id": "ce2edd58-b7a7-4dae-a144-ac7e69aa2b75",
   "metadata": {},
   "outputs": [
    {
     "data": {
      "image/png": "[encoded data removed]",
      "text/plain": [
       "<Figure size 432x288 with 1 Axes>"
      ]
     },
     "metadata": {
      "needs_background": "light"
     },
     "output_type": "display_data"
    }
   ],
   "source": [
    "# On crée notre DataFrame avec nos données\n",
    "titanic = p.read_csv(\"demo-pandas/titanic.csv\")\n",
    "survival_rate_by_embarkment = titanic.groupby([\"Embarked\"])[\"Survived\"].mean()\n",
    "\n",
    "# On renomme l'index avec des valeur unique\n",
    "survival_rate_by_embarkment.index = [\"1ère classe\", \"2eme classe\", \"3eme classe\"]\n",
    "\n",
    "# Et on utilise `.plot.bar()` pour afficher un graphique en barres\n",
    "# le paramètre rot=0 permet de garder les labels à l'horizontale\n",
    "survival_rate_by_embarkment.plot.bar(rot=0);"
   ]
  },
  {
   "cell_type": "markdown",
   "id": "5bf31fc4-47ba-4581-a7dc-36a8727bc3f7",
   "metadata": {},
   "source": [
    "Pour avoir des valeurs groupées, on peut commencer par extraire nos données, puis créer un DataFrame de la bonne forme, spécifiquement pour notre graphique. "
   ]
  },
  {
   "cell_type": "code",
   "execution_count": 82,
   "id": "b7c970ec-56df-4f95-a36d-da27879591c2",
   "metadata": {},
   "outputs": [
    {
     "name": "stdout",
     "output_type": "stream",
     "text": [
      "             male     female\n",
      "Pclass                      \n",
      "1       36.885246  96.808511\n",
      "2       15.740741  92.105263\n",
      "3       13.583815  50.000000\n"
     ]
    },
    {
     "data": {
      "image/png": "[encoded data removed]",
      "text/plain": [
       "<Figure size 432x288 with 1 Axes>"
      ]
     },
     "metadata": {
      "needs_background": "light"
     },
     "output_type": "display_data"
    }
   ],
   "source": [
    "# On commence par récupérer nos deux jeux de données (hommes et femmes)\n",
    "males = titanic[titanic[\"Sex\"] == \"male\"]\n",
    "females = titanic[titanic[\"Sex\"] == \"female\"]\n",
    "\n",
    "# On extrait nos informations, à savoir la moyenne de survie par classe\n",
    "male_survival = males[[\"Pclass\", \"Survived\"]].groupby(\"Pclass\").mean()\n",
    "female_survival = females[[\"Pclass\", \"Survived\"]].groupby(\"Pclass\").mean()\n",
    "\n",
    "# On crée une nouvelle DataFrame comportant nos deux jeux de données\n",
    "data = p.DataFrame({\n",
    "    \"male\": male_survival[\"Survived\"] * 100,\n",
    "    \"female\": female_survival[\"Survived\"] * 100,\n",
    "})\n",
    "\n",
    "# Je print pour qu'on puisse voir la forme de ce nouveau DataFrame\n",
    "print(data)\n",
    "\n",
    "# Et on affiche, pandas va gérer nos deux jeux automatiquement\n",
    "axes = data.plot.bar(rot=0);"
   ]
  },
  {
   "cell_type": "markdown",
   "id": "d0a6c926-fb69-4dcb-8662-7d648f5900c1",
   "metadata": {},
   "source": [
    "D'un coup c'est beaucoup plus simple d'obtenir des données groupées comme ça."
   ]
  },
  {
   "cell_type": "code",
   "execution_count": 85,
   "id": "b62c0b03-3666-4ea5-98c8-0bc677d87d8d",
   "metadata": {},
   "outputs": [
    {
     "name": "stdout",
     "output_type": "stream",
     "text": [
      "                      Fare   Cumulated\n",
      "Embarked Pclass                       \n",
      "C        1       8901.0750   8901.0750\n",
      "         2        431.0917   9332.1667\n",
      "         3        740.1295  10072.2962\n",
      "Q        1        180.0000  10252.2962\n",
      "         2         37.0500  10289.3462\n",
      "         3        805.2043  11094.5505\n",
      "S        1       8936.3375  20030.8880\n",
      "         2       3333.7000  23364.5880\n",
      "         3       5161.5863  28526.1743\n"
     ]
    },
    {
     "data": {
      "image/png": "[encoded data removed]",
      "text/plain": [
       "<Figure size 432x288 with 1 Axes>"
      ]
     },
     "metadata": {
      "needs_background": "light"
     },
     "output_type": "display_data"
    }
   ],
   "source": [
    "fare_by_embarkment = titanic[[\"Embarked\", \"Pclass\", \"Fare\"]].groupby([\"Embarked\", \"Pclass\"]).sum()\n",
    "fare_by_embarkment[\"Cumulated\"] = fare_by_embarkment[\"Fare\"].cumsum()\n",
    "\n",
    "print(fare_by_embarkment)\n",
    "\n",
    "fare_by_embarkment[\"Cumulated\"].plot();"
   ]
  },
  {
   "cell_type": "markdown",
   "id": "4c180653-c821-435c-9f15-159d0da71c31",
   "metadata": {},
   "source": [
    "# 📝 A vous (5)\n",
    "\n",
    "Ouvrez le fichier notebook dans le dossier `a-vous/a-vous-5.ipynb` et remplissez les blocs de code pour obtenir le résultat attendu."
   ]
  }
 ],
 "metadata": {
  "kernelspec": {
   "display_name": "Python 3 (ipykernel)",
   "language": "python",
   "name": "python3"
  },
  "language_info": {
   "codemirror_mode": {
    "name": "ipython",
    "version": 3
   },
   "file_extension": ".py",
   "mimetype": "text/x-python",
   "name": "python",
   "nbconvert_exporter": "python",
   "pygments_lexer": "ipython3",
   "version": "3.9.7"
  }
 },
 "nbformat": 4,
 "nbformat_minor": 5
}
